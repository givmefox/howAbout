{
 "cells": [
  {
   "cell_type": "markdown",
   "metadata": {},
   "source": [
    "# 동영상 오디오 데이터를 통해 키워드 추출"
   ]
  },
  {
   "cell_type": "code",
   "execution_count": 22,
   "metadata": {},
   "outputs": [
    {
     "name": "stdout",
     "output_type": "stream",
     "text": [
      "[youtube] Extracting URL: https://www.youtube.com/watch?v=szmtkszxHBg&t=2039s\n",
      "[youtube] szmtkszxHBg: Downloading webpage\n",
      "[youtube] szmtkszxHBg: Downloading tv client config\n",
      "[youtube] szmtkszxHBg: Downloading player 91201489\n",
      "[youtube] szmtkszxHBg: Downloading tv player API JSON\n",
      "[youtube] szmtkszxHBg: Downloading ios player API JSON\n",
      "[youtube] szmtkszxHBg: Downloading m3u8 information\n",
      "[info] szmtkszxHBg: Downloading 1 format(s): 251\n",
      "[download] Destination: audio_new.mp3\n",
      "[download] 100% of   30.05MiB in 00:00:10 at 2.78MiB/s     \n",
      "[ExtractAudio] Destination: audio_new.mp3.mp3\n",
      "Deleting original file audio_new.mp3 (pass -k to keep)\n"
     ]
    }
   ],
   "source": [
    "import yt_dlp\n",
    "\n",
    "def download_audio(youtube_url, output_file=\"audio_new.mp3\"):\n",
    "    ydl_opts = {\n",
    "        'format': 'bestaudio/best',\n",
    "        'postprocessors': [{\n",
    "            'key': 'FFmpegExtractAudio',\n",
    "            'preferredcodec': 'mp3',\n",
    "            'preferredquality': '192',\n",
    "        }],\n",
    "        'outtmpl': output_file\n",
    "    }\n",
    "    \n",
    "    with yt_dlp.YoutubeDL(ydl_opts) as ydl:\n",
    "        ydl.download([youtube_url])\n",
    "\n",
    "# 사용 예시\n",
    "download_audio(\"https://www.youtube.com/watch?v=szmtkszxHBg&t=2039s\")\n"
   ]
  },
  {
   "cell_type": "code",
   "execution_count": 35,
   "metadata": {},
   "outputs": [
    {
     "name": "stderr",
     "output_type": "stream",
     "text": [
      "100%|███████████████████████████████████████| 461M/461M [01:12<00:00, 6.68MiB/s]\n",
      "c:\\Users\\jhkan\\workspace\\howabout\\youtube\\.venv\\Lib\\site-packages\\whisper\\transcribe.py:126: UserWarning: FP16 is not supported on CPU; using FP32 instead\n",
      "  warnings.warn(\"FP16 is not supported on CPU; using FP32 instead\")\n"
     ]
    },
    {
     "name": "stdout",
     "output_type": "stream",
     "text": [
      " 안녕하세요 동인간 뉴스터지 동정민 앤컴 입니다. 박사님들 어서 오십시오. 윤석열 대통령이 겸을 왜 했을까 상당히 처음부터 많은 궁금증이 있었는데 헌법 재판소 변론 때 2차 변론이었는데 사회상 이게 이제 본격적인 첫 변론이었어요. 이때 대통령치게 데리는다는 배진한 변호사가 도대체 왜 국가 비상 사태로 그때 판단할 수밖에 없었는지 이유를 설명하겠다며 첫 번째로 이걸 들었습니다. 바로 최대 국정물난 사태인 부정선거 의혹. 우리나라에서 판돌아예 상자 같은 걸까요? 한쪽에서는 뭔가 이 안에 뭐가 있다. 확실한 사실로 믿고 있는 세력이 있고 한쪽은 완전히 이 부정선거 의혹만 얘기하면 이거는 음모로네 빠져있는 거다라고 주장하는 완전히 갈리는 이슈죠. 윤석열 대통령은 부정선거에 확실하게 의심을 갖고 있습니다. 대통령이 최포되던 날 공개한 자기가 자필로 쓴 내용을 보면 여기 분명히 적혀 있죠. 우리나라 선거에서 부정선거의 증거는 너무나 많습니다. 이를 가능하게 하는 선거의 엉터리 시스템도 다 드러났습니다. 부정선거를 음모론으로 일축할 수 없습니다. 이번에 헌재에 나와서도 이렇게 얘기했습니다. 저는 선거가 부정이어서 믿을 수 없다 이 음모론이 아니라 뭔가 팩트를 확인하는 게 필요했습니다. 그러면서요. 제가 이걸 살펴볼 겁니다. 박 쌤들. 아, 대체 부정선거 의혹. 뭐 의혹은 있는데 이게 대체 무슨 의혹인 건지. 그럼 이게 정말 믿을만 한 건지. 그럼 선거는 뭐라고 해명을 하고 있는 건지. 제대로 해명을 하고 있는 건지. 너무 궁금하잖아요. 과연 대통령은 부정선거와 관련해서 무엇을 의심하고 있는가가 너무 궁금했어요. 무엇. 대체 무엇을 의심하고 있는가 처음으로 밝혔습니다. 대통령 측에서요. 부정선거 우리는 이걸 의심합니다라고 10가지의 의심하는 사유를 밝혔습니다. 헌법 재판소에서. 그래서 제가 이 10가지를 선거님께 제가 물어봤습니다. 답을 해보십시오. 대통령 측에서는 이렇게 10가지를 의심한다는 데 선거님 여러분은 어떻게 해명을 하시겠습니까. 그 답을 들어왔습니다. 자, 박사님들. 우리 이제 딱 중심을 잡고 대통령 측은 10가지를 뭘 의심하는지. 그럼 선거님은 거기에 대해서 뭐라 가는지 제가 설명을 드릴 겁니다. 보시고 한 번 판단해 보시죠. 지금 시작합니다. 동투도닉. 많은 분들이 이걸 궁금해 하십니다. 자, 대통령은 부정선거를 의심합니다. 그런데 이 대통령이라는 자리는 사실은 모든 걸 할 수 있잖아요. 부정선거가 의심이 되면 선거님이나 또 다른 행안부나 쪽에다가 대체 나는 부정선거가 의심이 되니 한 번 조사를 해봐라고 시킬 수 있는 거 아니냐. 굳이 왜 대통령이 개언까지 해야 되는 거냐. 의심 되면 스스로 할 수 있는 거 아니냐. 라는 의혹들이 많이 있었습니다. 자, 여기에 대해서 변호인단이 이렇게 헌법재판소에서 얘기를 했습니다. 왜 평화시에 부정선거 증거 확보에 나서지 못하고 비상개험을 통해서 할 수밖에 없었는지 그 안타까운 상황을 설명하겠습니다. 저도 궁금했어요. 너무. 대통령은 부정선거에 대한 제보를 워낙 많이 받았고 부정선거로 의신되는 부분들이 너무 많았기 때문에 대통령이 부정선거에 대해서 확실을 갖고 있지 않다 하더라도 그 의혹을 밝히는 것은 당연한 대통령의 생무입니다. 국정원이 선거관리위원회를 점검한 그 결과 상상 초월해 너무나도 부실하고 의혹 투성의 결과를 확보했습니다. 이후 서버 제출 등 요청한 것들을 선거관리위원회가 하나도 받아들이지 않았습니다. 결국 이런 불행까지 오게 된 겁니다. 자, 무슨 말이에요? 국정원이 의심이 돼서 국정원이 선관위를 점검했다는 거예요. 그런데 너무나도 부실하고 상상 초월해 의혹 투성이 결과를 받았다는 거예요. 그래서 선관위에 서버 제출을 요청했는데 이건 선관위가 받아들이지 않았다. 그러니까 평화 시에는 부정선거 증거를 확보하려고 해도 확보할 수가 없었다. 그래서 비상겸이라는 불행한 사태까지 오게 된 거다. 선관위가 책임을 져야 한다는 게 대통령 측의 설명입니다. 그러면 일단 배경지식을 알아야 돼요. 이게 뭐냐 대체? 국정원의 선관이 점검 이게 뭐냐. 제가 동행관 뉴스터에 대해서 한번 정리를 해 드린 적이 있습니다. 이번 사태 터지고 나서 또 다시 소환이 돼서 많은 분들이 봐주시고 계시던데 그때 내용을 더 자세하게 알고 싶으시면 지금 여기 우상단에 있는 거 클릭해서 한번 보시면 좋겠고요. 그게 뭐냐면 2023년 5월 그러니까 윤석열 정부 출범 이후죠. 5월 23일에 보면 선관위가 북한 해킹 의혹 관련해서 국정원 등 합동 정법 밖으로 오는 기사 보이시죠. 그러니까 사실은 부정선거 의혹을 막 파고들기보다 북한의 해킹을 당했던 의혹이 있으면서 어쨌든 국정원이 점검을 한 거예요. 어떻게 점검을 했느냐. 7월 17일부터 그해 9월 22일까지 두 달에 거쳐서 국정원이 한국 인터넷 진원과 중앙선거관리원에 다 함께해서 보완 전법을 합니다. 거기서 뭔가 의심스럽고 문제가 있다고 실제로 국정원이 발표를 합니다. 그 내용을 바탕으로 윤석열 대통령의 이 부정선거 의혹이 출발하는 것 같습니다. 부정선거가 의심되는 10가지 이후 첫 번째 시작합니다. 대통령 측이 헌법집 판소에서 밝힌 부정선거가 의심되는 이후 10가지 그 첫 번째는 선관위가 해킹도 당할 수 있고 투표, 개표 모두 전반적으로 조작할 수 있는 가능성이 발견됐다는 거예요. 이건 팩트예요. 뭐냐면 대빈단은 이렇게 얘기를 합니다. 선관위 시스템이 외부 침투 공격에 취약하고 국내는 물론 중국 북한의 해킹이 용의하고 투표, 개표 데이터에 대한 전반적인 조작 가능성이 농후했다. 이 내용을 앞으로 좀 더 자세하게 설명을 드릴 텐데 아까 제가 보안 점검했다고 말씀드렸잖아요. 국정원의 당시 보안 점검을 한 결론은 이렇습니다. 선관위가 해킹에 취약하더라. 그래서 북한이 언제든 해킹할 수 있는 상태더라. 그리고 개표 결과와 선거인 면분도 마음 먹고 들어오면 조작이 가능할 정도로 보안 시스템이 취약하더라. 그러니까 해킹돼서 만약에 진짜 부정선거 하려고 마음 먹으면 할 수 있을 정도로 취약하더라. 오게 점검 결과를 합니다. 대신 이것도 아셔야죠. 여러분, 우리는 균형감 있게 봐야 되니까. 실제로 투표 조작이 있었던 정황이 파악되지는 않았다. 그래서 부정선거 여부에 대해서는 판단을 내릴 수 없다는 게 결과입니다. 그러니까 조작할 수는 있어요. 그래서 의심은 되지만 그런 정황을 본 건 아니에요. 정황을 파악한 건 아니에요. 이게 정확한 거예요. 대신 북한 해커로부터 공격당한 흔적은 있더라. 북한 해코 조직으로 유명한 김숙희, 경찰총국 사나회. 여기서 2021년 4월에 선관이 PC에 악성 코드를 심어 나와서 대회비 문건을 이렇게 빼간 흔적은 있더라. 요건 있는데 선거와 관련해서 뭔가 이게 의심스럽고 뚫린 정황은 없더라. 라고 얘기를 합니다. 그런데 어쨌든 변호사 측은 베린단 측은 뭔가 가능성이 너무한 것 자체가 문제라고 얘기를 하는 거죠. 선관인 여기에 대해서 뭐라고 얘기를 하냐면 실제로 보암 점검에서 발견된 취약점이 있었고 그래서 대부분 진안 총선전에 다 개선을 했고 국정원도 둘 차례에 거쳐서 사후 확인을 거쳐서 아 이쪽은 문제없다는 얘기를 들었다는 게 선관의 설명이에요. 그리고 아까 대리인 단 측은 뭐라고 얘기를 했냐면 이렇게 국정원이 점검에서 뚫려서 의심이 돼서 서버 제출을 요청했는데 선관이가 응하지 않았다라고 얘기를 했잖아요. 선관이는 전혀 그런 적이 없는데 그 이후에 이 점검 이후에 외부 기간으로부터 서버 제출을 요청받은 바가 없다 라고 얘기를 하고 있습니다. 이건 약간 진실 공방처럼 되어 있는 거예요. 이건 한 번 양쪽 의견이 다르니까 이 말이 다르니까 뭐가 진실인지 저도 모르겠습니다. 어쨌든 선관이는 요청받는 바가 없다고 합니다. 있었는데 없다고 해명하면 이건 건직퇴명이 될 테고요. 헌법 재판 과정에서 요청이 있다면 서버 관련해서 공개도 적극적으로 협조를 하겠다는 답을 선관이가 해 왔습니다. 그러니까 현재 이번 과정에서 뭔가 부정선거 의혹이 좀 밝혀 질지도 한 번 봐야 할 대목인 것 같아요. 두 번째 대리인단이 제시한 의혹은 이것습니다. 사전투표수를 부풀이기로 선거 결과 조작이 의혹됐다. 이게 무슨 말이냐면 부정선거 의혹의 핵심적인 키는 바로 사전투표입니다. 이 사전투표라는 게 전국 곳곳에서 투표를 해요. 각각 자기 하고 싶은데서 그게 한참 동안 보관이 됐다가 나중에 각 지역을 이렇게 모아지잖아요. 시간이 걸리죠. 사전투표가 진행이 됐고 이걸 보관을 하고 이동을 해서 눌러 넘기는 이 과정 속에서 뭔가 이상하다는 의혹이 제기되는 거예요. 이게 부정선거 의혹의 핵심입니다. 그 의혹 중에 하나가 뭐냐면 사전투표 수가 부풀리기 늘어났다는 거예요. 사전투표를 했으면 고스란히 옮겨와야 되는데 이 과정 속에서 옮겨지고 보관하는 과정 속에서 이 과정 속에서 뭔가 막 늘어난다 이 의혹을 제기라는 겁니다. 투표가 그게 가능해요 라고 얘기를 하는데 변호인단 측이 딱 얘기를 합니다. 이게 의심스럽습니다. 뭐가 의심스럽냐면 사전투표함의 자물쇠를 꽂은 것 처럼 되어 있고 거기에 검은 종이를 씌웠는데 양쪽으로 그걸 뺄 수 있게 돼 있다 자물쇠를 그러니까 사전투표가 끝났으면 고스란히 복은이 돼서 손끝 하나 건들지 않고 바로 본투표까지 가서 그게 들어가야 되는데 얼마든지 사전투표함을 열어서 집어넣을 수 있다. 이게 1번을 당선시키고 싶으면 1번이라고 된 투표용지를 사전투표함에 넣어놓을 수 있다. 이 의심을 하는 거예요. 어느 철학자가 목적 없는 사람의 행동은 없다고 했다. 목적이 없이 그렇게 했을까. 이게 무슨 얘기냐. 이게 이것입니다. 자, 보시죠. 사전투표함이 있어요. 이렇게 이게 사전투표함이에요. 그러니까 투표를 끝내면 사전투표를 끝내면 이 투표함으로 그 투표용지를 넣어요. 그럼 여기 말하는 지금 검은 종이가 뭐냐면 여기 검은 종이 보이십니까? 사전투표함이에요. 그러면 여기 클로즈해 보면 투표함 잠궈야죠. 잠궂니다. 잠궂어요. 여기 보면 여기 잠구는 거 있죠. 이것입니다. 이거. 조금 더 자세히 클로즈를 하면 이렇게 양쪽에서 이렇게 잠 거예요. 더 보여주니까요? 이거예요. 이거 이렇게. 그러니까 뭐냐면 양쪽으로 끼우는 거예요. 그리고는 이 봉인지를 붙여요. 검은 봉인지, 검은 종이 이거. 이게 뭐냐면 투표 참관인. 그러니까 참관한 사람 그다음에 선거 당시 관리하는 사람이 같이 이 투표함 문제 없습니다라고 여기 보면 서명, 사인을 해요. 투표 관리, 투표 참관인. 사인하고 딱 봉인을 합니다. 그런데 지금 뭘 의심하냐면 여기 지금 보면 양쪽으로 뺄 수 있다. 뭘 이렇게 잠을 쎄를 이렇게 양쪽으로 딱 끼우는 걸 넣었는데 이 잠을 쎄를 뺄 수 있다는 거예요. 양쪽으로. 그리고 이거를 열고 투표 용지를 넣을 수 있다. 이걸 지금 의심하는 거예요. 근데 선거 안이 지금 뭐라고 얘기를 하냐면 말이 안 된다고 얘기를 합니다. 선거 안이 쪽에서는. 뭐냐면 여기 보면 안 빼진다는 건 안 빼죠. 안 빼지기 때문에 여기 보면 니포로 끊어야 되죠. 일단. 훼손이 일어나야 돼요. 그리고 이 검은색 봉인지는 종이는 특수 용지라서 이걸 떼면 훼손이 되면 다시는 재활용할 수 없게. 특수 용지라는 거예요. 그래서 이걸 끊고 떼는 순간 그걸 다 CCTV로 찍고 있기 때문에 집어넣을 수 없다는 거예요. 불가능하다고 해명을 합니다. 그러면 이건 뭐냐고 또 의심하는데 이게 뭐냐면 2024년 총선 때 은평구 선관 CCTV인데 모든 사전 투표함은 여기서부터 이동해서 보관하는 과정을 다 CCTV로 찍게 돼 있습니다. 누가 오면 안 되니까요. 근데 새벽에 갑자기 투표함에 보이십니까? 막 이렇게 집어넣고 있는 거예요. 보이잖아요. 그래서 새벽에 이렇게 투표함을 집어넣고 있다. 뭔가 투표 용지 새로 넣는 거 아니야. 사전 투표 풀리게 아니야. 이 의혹이 제기가 된 거예요. 근데 선관의 얘기는 뭐냐면 은평구 선관의 일은 관의 사전 투표함을 뜯어서 본투함에 다시 넣는 정상적인 과정이다. 이게 무슨 얘기냐면 자, 보십시오. 사전 투표를 했어요. 은평구 시민들이 은평구에서만 사전 투표하지 않잖아요. 자기 종로에서 회사 다니면 종로구 사전 투표소에서 다 하고 다 곳곳에서 하잖아요. 이 사전 투표에서 각한 거를 여기 본투표함에 합치는 작업이라는 겁니다. 선관의 해명은. 근데 합치는데 이 합치는 건 여기 있잖아요. 이렇게 니퍼 끊고 합치는 게 아니라 이 위에 보면 지금 위혜로 넣잖아요. 그 보이시죠? 클로즈업하면 이 위에 별도로 검은색 종이 있죠. 이걸 뜯는데요. 뜯고 사전 투표한 걸 넣어요. 그리고 뜯으면 그건 버리는 거예요. 그리고 새로운 동인지를 붙인다는 겁니다. 그 정상적인 작업인데 보통은 밤 12시 이전에 끝나는데 이 날 워낙 일이 많아서 새벽까지 그 작업을 했다는 거예요. 사전 투표한 투표용지를 본투표함에 집어넣는 그게 문제가 없다는 겁니다. 그런데 변호인다는 무슨 의혹을 하냐면 이걸 의심해요. 뭐냐면 사전 선거가 도입된 이후로는 법원이 증거 확고보가 불가능한 상태다. 이게 무슨 얘기냐. 예전에는 사전 투표가 도입된 지 얼마 안 됐잖아요. 그전에는 부재자 투표는 할 수 있었어요. 그죠? 부재자 투표와 사전 선거의 차이 기억나십니까? 부재자 투표는 뭐냐면 내가 선거일이 만약에 4월 7일인데 4월 7일에 도저히 선거를 할 수 없는 상황이에요. 해외 출장이 있거나 해외에다가 있어야 되는 상황. 그럴 때는 어떻게 하냐면 사전 신고를 하죠. 내가 이날 투표를 할 수 없으니까 부재자 투표를 하겠습니다. 신고를 하면 부재자 투표용지가 집으로 와요. 투표용지가. 그러면 그 투표용지를 들고 미리 투표를 하는 거죠. 부재자 투표를 하는 거죠. 그죠? 기억나십니까? 부재자 투표는 그런데 그런데 이제는 사전 투표가 되면 사전 투표는 신고 없이 그냥 가서 투표하면 돼요. 그죠? 그러다 보니까 부재자 투표를 때는 장부가 있어서 이 사전 신고를 하다 보니까 몇 명의 투표했는지 투표를 안 했는지 확인하셨으면 됐는데 지금은 기록이 남아있는 게 없다. 누가 투표했는지 몇 명이 투표했는지 알 수가 없다. 라고 얘기를 합니다. 그러니까 부재자 투표와 사전 투표가 달라서 부재자 투표는 기록이 남아 있는데 사전 투표는 기록이 없어서 나중에 문제를 제기해서 선거 무효소송이 되니까 문제가 있다라고 해서 법원이 증거라 확보하려고 해도 사후에 증거 확보가 불가능하다라고 지금 대통령 대리인단이 혼자서 밝혔습니다. 야, 이거 진짜일까? 이것도 궁금하죠. 자, 성관위에 제가 물어봤습니다. 성관위는 사실이 아니라고 얘기를 합니다. 성관위의 설명은 이래요. 뭐냐면 사전 투표도 다 기록이 남는다는 거예요. 자, 그럼 어떤 기록이 남는지 제가 물어봤습니다. 기록이 뭐냐? 1번 선거인 명부 기록이 남아있다. 여러분 가시면 이제 절차가 있잖아요. 그럼 어떻게 해요? 본투표 때 얘기입니다. 그럼 여기에 이름 딱 찾아서 그 사람의 사인하라고 그러잖아요. 그게 뭐냐면 선거인 명부예요. 그럼 사인 안 하면 투표 안 한 거겠죠. 그게 선거인 명부. 그게 기록이 남아 있다는 거예요. 두 번째 통합 선거인 명부가 있다는 거예요. 이 통합 선거인 명부는 뭐냐면 이렇게 장부로 있는 게 아니라 선관이 내부 시스템에 통합 선거인 명부가 있어요. 거기서 다 통합 선거인 명부는 전국 6권자가 몇 명이고 그 사람이 어떻게 했고 이게 시스템에 남아있는 이거는 선관이 내부 시스템에 남아있는 통합 선거인 명부가 있고 그 다음에 또 하나는 뭐냐면 세 번째는 이게 있다는 거예요. 뭐냐면 개표 상원표와 실무 투표지를 대주할 수 있다. 이게 무슨 얘기냐. 개표 상원표라는 게 대체 뭐냐냐면 여러분 이렇게 됐는데요. 투표함이 있어요. 그럼 투표함 그 투표함에 투표함을 문을 열줘. 개표할 때 그리고 어떻게 하냐면 투표 분류기로 넣습니다. 이걸 여기 있는 투표 용지를 쫙 넣어요. 그러면 여기 보면 1번 후보 2번 후보 이렇게 분류가 되죠. 그러면 자동적으로 개표 상원표에 1번 후보 몇 표 2번 후보 몇 표가 쫙 찍혀서 나오는데요. 그러니까 투표함 하나마다 개표 상원표 하나가 나오는 거예요. 거기에 일단 분류기로 거친 게 전자개표로 분류기로 거친 게 따라 찍혀요. 그러면 두 번째 실제로 이 투표 용지가 있잖아요. 그러면 그걸 수개표 한 결과 그러면 1번 후보가 여기 1번 1번 꽝 찍힌 후보 것만 다시 모으는 거예요. 확인을 하는 거예요. 그러니까 투표 분류한 걸 그러면 가끔 분류기가 오류가 나서 약간 애매하게 찍혔거나 그래서 애매하게 찍혀서 무용 건 무용 빼야 되고 그다음에 애매하게 찍혀서 혹시라도 2번 후보로 가야 되는데 1번으로 잘못았다. 그걸 1, 2, 수개표로 거친 다음에 이렇게 아, 전자개표기는 170표인데 수개표 레본이 171표더라. 라고 그 성관이 담당자와 투표 참관이 같이 보다가 자, 여기 172표 맞습니다. 왜냐하면 한 표는 무용, 뭐 잘못 넘어 온 겁니다. 하고 서명을 짜락하게 돼 있다는 거예요. 이게 개표 상한표라는 겁니다. 이 개표 상한표 그러니까 투표 한 마다 하나의 한 장의 개표 상한표가 있고 그러면 또 하나 실제로 이 투표함에 들어있는 실물 투표 용지가 있을 거 아니에요. 만약에 171표다 그럼 171표를 1번으로 찍은 그 투표 실무 용지가 있다는 거예요. 이거를 보관을 하고 있다는 거예요. 그래서 제가 물어봤어요. 얼마나 보관하고 있느냐 얼마나 보관하고 있느냐 물어봤더니 원칙은 임기 내에는 보관하고 있다고 합니다. 그러니까 예를 들어 대통령 선거였다 그럼 대통령 임기가 5년이잖아요. 그럼 5년 자, 국회의원 선거였다 그럼 총선이니까 임기 4년이니까 4년 임기 내에 보관을 하고 있는데 이거 좀 변수가 있더라고요. 임기 내에 보관하고 있는데 실제로 뭐 한 2, 3년 지났는데 선거 무효 소송도 없고 아무런 문제 제기가 없어요. 그러면 선간이가 의결을 해서 폐기를 시킬 수는 있답니다. 그러니까 원칙은 임기 동안은 이 상황표와 투표용지를 보관하고 있는 거지만 만약에 한 2, 3년 지났는데 아무런 의심이 없고 의혹이 없다 그럼 선간이가 의결해서 땅땅땅 2, 3년 뒤에 폐기합시다 하려면 폐기할 수도 있다 이게 선간의 답입니다. 그러니까 선간이 말에 따르면 완전히 증거 확보가 불관양한 상태라는 거 아닌 거죠. 기록은 남아 있다는 거예요. 다만 그 기록이 연구이 남아 있느냐 이건 또 아닌 그런 상황으로 보시면 될 것 같습니다. 자 세 번째 넘어갑니다. 자 세 번째는 통합 선거인 명보 시스템 관리가 부실하다. 이게 무슨 내용이냐면 아까 그 제가 선간이가 4호 검증 가능하다고 하면서 두 번째가 통합 선거인 명보가 있기 때문에 4호의 검증이 가능하다는 내용이었는데 이게 뭐냐면 사실은요 제 처음에 국정원이 보안정검을 한 게 바로 이 통합 선거인 명부를 중점적으로 보안정검을 한 겁니다. 뭐냐면 모든 유권자 정보가 직결돼 있는 시스템이에요. 그러니까 지난 대선 기준으로 따지면 유권자가 4,419만 7,692명이었거든요. 그러니까 이 사람들의 이름 쫙 그죠? 이름 그다음에 어디 사는지 지역쩍 그리고 결정적으로 뭐가 기록이 되냐면 투표 여부가 기록이 됩니다. 이 사람은 투표를 했다. 이 사람은 투표를 안 했다. 지금 부정선거 의혹 중에 하나가 뭐냐면 내가 사전 선거 투표를 안 했어요. 근데 본 투표 때 투표하러 갔더니 사전 투표 한 것처럼 나와 있었다. 이런 의혹들이 지금 제기가 되어 있는 거거든요. 그런 것들은 살짝 기록이 남아 있어야 돼요. 통합 선거인 명부에. 기록이 남아 있어요. 그런데 변호인단이 뭐라고 얘기를 하냐면 아니 정검을 해보니까 사전 투표를 한 사람이 하지 않았다고 표시를 할 수도 있고 투표를 안 했는데 투표를 했다고도 표시할 수 있고 유령 유권자가 나올 수도 있다. 선관위원회는 이걸 해명 안 하고 정당하다고만 한다. 대통령이 분노를 안 한다면 오히려 대통령 자격이 없는 것이다. 이게 무슨 얘기냐면 아까 제가 말씀드린 2023년 5월에 실시한 국정원의 점검 결과에서 발표한 내용입니다. 보안 점검이라는 게 정확히 뭐냐면요. 국정원이 해킹을 해본 거예요. 선관위원회. 그러니까 선관이 시스템 안으로 들어가 본 거예요. 들어가서 실제로 선거 결과를 조작할 수 있는지를 살펴본 거예요. 그랬더니 통합 선거인 명부 시스템에 들어가지더라. 해킹이 되더라. 그런데 대사 뭐랄 수 있느냐. 동정민 사전 투표를 했어요. 그런데 마치 안 한 것처럼 바꿀 수 있더라. 우리 작가님 김정연 작가님 투표를 안 했어요. 실제로 안 했다는 게 아니라 만약에 예의심이다. 안 했어요? 그런데 사전 투표를 안 했는데 사전 투표 한 것처럼 바꿀 수 있더라. 심지어 이런 유권자가 없어요. 암우개라는. 그런데 유권자를 넣어서 이런 유권자가 마치 4,419만 7,690명이 있는 것처럼 넣어서 투표했다. 이것도 가능하더라. 이게 국정원의 보안 점검의 결론이었습니다. 그래서 당시에 제가 문제를 얘기를 했었죠. 저도. 이거 뭔가 선관이가 시스템을 바꿔야 한다. 그러면 선관의 해명을 제가 들어봤습니다. 어떻게 된 거냐. 선관이는 해명도 안 하고 정당하다고 하는데 선관이는 그때 당시의 국정원의 보안 점검이 해킹이 가능했던 건 선관이가 협조를 했기 때문에 가능하다는 거예요. 그러니까 선관이가 문을 다 열었다. 그래서 좋기 때문에 선관이가 해킹을 할 수 있었고 들어올 수 있었고 그래서 들어오면 그게 조작이 가능하다는 거지만 현실적으로는 그렇게 들어올 수가 없다는 거예요. 왜? 통합 선거인 명부를 위조하려면 보안 관제 시스템 뭐냐면 이 선관이 내부 망인데 당연히 선관이가 얼마나 중요한 내부 망이 중요하겠습니까. 그렇죠? 투표 결과가 민주주의 핵심이 투표인데 투표 결과가 조작되면 있을 수 없는 일이잖아요. 그래서 철저하게 내부 보안방이 갖춰져 있다는 거예요. 그러니까 이렇게 뚫고 들어오려면 서버 정보도 알아야 되고 접속 정보도 알아야 되고 그리고 기본적으로 보안 관제 시스템이 무력화되어야 된다는 거예요. 침투하면 바로 여기서 알고 알람이 울리는 이 시스템이 불룽화되어야 되는데 한 번도 보안 관제 시스템이 불룽 상태가 된 적이 없다. 그리고 현실적으로는 이게 어려운 게 이걸 다 불룽화되려면 몇 차례에 걸쳐서 이걸 다 뚫어줄 내부 조력자가 있어야 된다는 거예요. 선관이 내에 근데 어떤 내부 조력자가 서버 정보도 알려주고 접속 정보도 알려주고 보안 관제 시스템까지 불룽화시켜서 핵킹에 들어오도록 해줄 수 있겠냐 현실적으로 불가능하다라는 게 선관이의 설명입니다. 그러니까 저는 이게 중국인 선관이 내부에 중국인 관련자가 있어서 뭔가 한 것 같다는 의심도 제기를 하거든요. 선관이 또 거기에 대해서 이게 다 뚫으려면 선관이만 뚫어서 될 일이 아니라 또 행정안전부 이런 정부 부처까지 다 협력을 해야만 문접시 뚫을 수 있기 때문에 이건 사실이 아니다라고 선관이는 해명을 하고 있습니다. 자, 부정 선거를 의심하는 네 번째 이유는 가짜 사전투표 용지를 무단으로 막이 살 수 있을 가능성이 있다라는 건데 변호인단 이기입니다. 대린단 자, 사전투표 용지 거기에 도장 파일과 테스트용 출력 프로그램이 통제되지 않아 실제로 사전투표 용지와 QR코드가 같은 투표 용지를 무단으로 마구 인세할 수 있다. 이게 또 무슨 얘기냐. 이 역시 그때 했던 국정원 보안 점검 결과에 나와 있는 내용입니다. 국정원이 문제를 제기랍니다. 뭐라고 얘기를 하냐면 자, 투표 용지가 있어요. 이게 사전선거 투표 용지라고 하면 위주를 막기 위해서 어떻게 되어 있냐면 자, 이렇게 후보들 이름이 적혀 있고 위에 선관이 지근이 찍혀 있어야 됩니다. 찍혀 있어요. 또 밑에 우하단에 QR코드가 있어요. 이 QR코드 뭐냐면 이 투표 용지 고유의 QR코드에요. 그리고 사전투표 관리관이 꽝 도장 찍어야 됩니다. 이 세 개가 있어야 만 인정이 되는 거죠. 그런데 국정원이 선관이 내부를 들어가 봤더니 이게 조작이 가능하다는 거예요. 뭐냐면 이 지균을 뗄 수 있다는 거예요. 바꿀게요. 바꿀 수 있다는 거예요. QR코드도 심지어 조작할 수 있더라고요. 그럼 무슨 얘기냐면 그냥 비슷한 투표 용지를 이렇게 딱 만든 다음에 지금 이걸 위조 조작을 하지 못하기 위해서 선관이 지균도 찍고 QR코드 넣은 거잖아요. 그런데 비슷하게 만든 다음에 이 선관이 지균과 QR코드를 갖다 붙이고 무단인세 해문. 큰일 나잖아요. 그런데 그럴 간성이 있더라. 그런 인세에 무방비더라라고 국정원이 당시에 정본 결과는 늘 발표합니다. 그걸 문제 삼은 거예요. 데린다니. 이거 의심할 수 있지 않느냐. 그런데 선관이 또 이렇게 해명을 합니다. 사전투표 용지와 동일하게 인쇄를 하려면 투표 용지 발급기가 또 있어야 되고 별도로. 그리고 이거 발급하려는 전용 드라이버 그리고 그 드라이버 프로그램도 있어야 된다. 이 세계가 다 갖춰줘야만 실제로 무단 인세가 가능한데 이것도 이거 두 개 그냥 갖다 붙인다고 될 일이 아니라 실제로 조작한 채 뽑혀 나와야 되기 때문에 그게 뽑혀 나올 가능성은 없다. 라는 게 선관이의 해명입니다. 다섯 번째 의혹은 사전투표소 투표소 지금 이제 막 투표 용지 뽑아내고 이런 게 의심 되는 거잖아요. 사전투표소 통신장비에 인가밭지 않은 외부 PC도 연결이 가능하더라. 통신장비에 인가밭지 않은 외부 PC를 연결해서 외부 PC를 통해서 뭔가 조작이 가능하더라. 라는 얘긴데 선관이에서는 사전투표소에 선관이 직원이 가서 통제 구역을 다 보고 통신장비 위치도 다 보고 있기 때문에 이건 사이상 불가능하다. 외부 PC 연결도 불가능하다라고 얘기를 합니다. 자 여섯 번째 넘어갑니다. 자 여섯 번째는 뭐냐면 개표 시스템에 허점이 있다는 건데 이건 무슨 얘기냐면 자 대린단 이렇게 얘기를 합니다. 투표지 분리기와 개표 시스템에 보안관리 체계가 부실해서 해커가 개표 결과를 얼마든지 변경할 수 있더라. 여기서 말하면 투표지 분리기가 무슨 얘기냐면 자 여러분 투표를 했어요. 그 투표함들을 다 개표소로 가져가죠. 개표소에 아까 제가 설명드린 것처럼 투표함에 있는 투표용지를 꺼내서 투표지 분류기에 넣습니다. 요즘 전자 분류기로 넣으면 여기 보시면 뚜루룩 1번 후번은 여기로 뚜루룩 2번 후번 여기로 이게 척척척 이름 별로 분류가 되죠. 투표용지가 알아서 그런데 그런데 해커가 이 투표지 분리기에 usb로 꽂아서 해킹을 하면 기호 1번을 찍었는데 2번 쪽으로 가거나 기호 2번을 찍었는데 1번 쪽으로 가는 완전히 정반대 상황 뭐 아니면 1번도 2번으로 2번도 1번으로 분류가 갈 수 있도록 해킹이 가능하더라 라는 게 당시 국정원의 점검 결과였습니다. 국정원이 그것도 문제 제기를 합니다. 너무 취약하다. 자 그런데 성관이 뭐라고 해명을 하냐면 투표지 블루기는 렌 카드가 장착되지 않아서 외부와의 통신이 아예 단절돼 있다는 거예요. 그러니까 무슨 얘기냐면 해킹 자체가 불가능하다는 거죠. 투표지 블루기는 2002년에 도입했는데 그 이후에 단 한 번도 뭔가 의심 사례가 없다라고 얘기를 합니다. 그러니까 결론이 이거예요. 다 열어주니까 이것도 꽂아서 할 수 있도록 해 주니까 이렇게 뚫리는 거지 실제로는 통신 장비가 그때는 통신이 단절되기 때문에 외부에서 해킹 자체는 현실적으로는 불가능하다. 국정원 점검은 선관이가 한번 해보라고 다 열어줬으니까 가능했던 거지 실제로는 불가능하다는 게 결과입니다. 그리고 또 이렇게 얘기를 하죠. 선관이는 이게 투표지 블루기만으로 결과가 나오는 게 아니라 수개표를 하잖아요 여러분 이렇게 손으로 한 번 분류된 거를 또 사람이 다 일일이 확인을 하거든요. 그러니까 이 정보시스템 그리고 블루기 기계장치는 실물 투표와 공개 수작업 계표를 보조하는 수단에 불과하다는 거예요. 그러니까 어차피 최종 결과는 이 수작업을 이렇게 많은 사람들이 하고 실제로 또 그 옆에 선거 선관이 그리고 각 정당에서 나와 있는 참관인들이 있어요. 국민의힘 민주당 그 계표소 마다 그럼 그들이 다 수개표를 보고 인정한 확인 한 번만 결론이 되기 때문에 투표지 블루기에서 일부 오류가 있어도 수개표사 걸러진다는 거예요. 그러니까 이걸 해킹해서 뭐 부정선거를 했다는 거 자체가 안 된다는 겁니다. 또 하나는 여기서 뭐라고 되어있냐면 계표 시스템의 보안관리체계가 부실해서 해커가 계표 결과를 변경할 수 있다. 이것도 국정원에서 당시의 보안정검 때 지적했던 내용입니다. 계표 시스템에 들어가서 해킹을 해서 사실은 후보 1번 1번 후보가 10만 표를 얻었는데 그걸 100만 표로 얻은 걸로 완전히 숫자 자체를 바꿀 수 있더라. 이게 국정원의 정검 결과였거든요. 그런데 이거 역시 마찬가지죠. 선관위에서는 모의 해킹 상황이니까 그게 가능했던 거고 현실에서는 그걸 하려면 시스템도 뚫어야 되고 짐이 탐지 시스템도 뚫어야 되고 탐지 됐을 때 바로 차단되는 그 시스템도 뚫어야 되고 이 모든 보안 챙계를 뚫고 비인가 장비가 접근하는 건 현실적으로 불가능하다는 게 선관위의 해명입니다. 부정선거 의심 이후 대통령 측에서 밝힌 대통령 측이라는 게 결국 대통령이 밝힌 거라고 봐도 될 것 같습니다. 대통령 측에서 밝힌 10가지 중에 6개로 오는 살펴봤습니다. 그런데요. 오늘 저희가 살펴본 건 대체 무슨 의혹이냐 하는 거죠? 무슨 의혹. 그런데 그러면 만약에 부정선거를 했다면 다음 시간에는 이건 알아볼 겁니다. 누가 누가 부정선거를 했다면 누가 있냐 누가 했다고 의심하는 거냐 대통령 측의 모든 의심은 이곳을 향해 갑니다. 나머지 4개의혹과 이 상황에 대해서 내일 정리해 드리겠습니다. 자 키즈 나갑니다. 대통령 변호인이 헌제벨론에서 개혼보선 국가 비상사태로 판단할 수밖에 없었다며 이 이유를 첫 번째로 들었습니다. 무엇일까요? 1번 예산사감 2번 부정선거 의혹 3번 김건희 여사특검 4번 야당의 각종 반해관 정답 아시는 분은 댓글로 남겨주시면 5번 추첨해서 제가 선물 드리겠습니다. 복잡한의 궁금한 이슈도 댓글로 남겨주시면 제가 선물드립니다. 자 아시죠? 평의로 7시 뉴스에 주마로 3시엔 동인과 뉴스터디 오늘 순서 여기까지입니다. 감사합니다. 박사님들 어서 오십시오. 240회 키즈 정답 나갑니다. 최근 1심에서 중형을 선거 받은 민노초 간첩단 많은 분들이 봐주셨는데요. 지령을 받고 김일 정보들을 보고한 본사 보신 분들 알겠지만 지령 주고 받을 때 본사라는 표현을 씁니다. 본사는 어딜까요? 정답은요. 정답은 1번 한 문화 교류 분위적 많은 분들이 맞추셨고 분노도 표해주셨고 또 공감되어주셨는데요. 리더 리더님 첫 번째 1년 전 거 보고 왔어요. 너무 충격이에요. 아 1년 전에 제가 이 민노초 간첩단 처음에 검찰이 재판을 넘길 때 그때 공소 내용을 보고 결과를 보러 오셨나 봐요. 아 감사합니다. 기억해주셨군요. 자 두 번째 당첨자님 hsktube님 자 참 북한 문화 교류국 문화 들어가니까 나만의 지령 보내니까 참 뭔가 이름어가 안 맞긴 하네요. 이름은 참 그렇듯 합니다만 동행에서 잘 알려주셔서 청취들이 실상을 다 알겠습니다. 라고 주셨습니다. 감사합니다. 세 번째 당첨자님은요. 포텐자님이십니다. 1번 맞춰주셨고요. 질문을 주셨습니다 저한테. 동행커님은 여야로부터 고소당하신 적 없으신가요? 다루는 주제가 사실인데 사실만 말해도 기분 나쁘다는 이유로 여야 측에서 고소할 것 같은 느낌이에요. 라고 말씀하셨는데 아유 그건 아니고요. 여야에서 오히려 많이 본다. 상당히 동행과 뉴스터디 관심을 많이들 갖고는 있는 것 같아요. 왜냐하면 주로 키풀 레이어들 얘기를 다루거나 관련된 또 내용들을 많이 다루기 때문에 예민하게 보시긴 하는데 아직까지 고소가 오거나 상위가 온 적도 저는 없는 것 같습니다. 네 번째 당첨자님은 안녕님이신데요. 이런 팩트에 기반한 정보들이 널리 퍼져야 되는데 안타깝다. 이걸 많이 모르시는 거에 대해서 민노총 관첩단이신 결과에 대해서 많이 알려지지 않은 거에 대해서 안타까워해 주셨습니다. 진신대 정보를 많은 이들에게 전파했으면 좋겠다. 제가 어쨌든 이런 것들 계속해서 찾아서 잘 전달을 해드리겠습니다. 마지막 당첨자님은 안아줘요님이십니다. 아유 뭐 따뜻하네요. 그렇죠 아이디가 아 음질이 많이 바뀐 것 같다고 마이크가 바뀐 건지 아니면 녹음이 잘 안 된 건지 확인을 해 봐야 될 것 같다. 예민하신다고요. 사실 그때 당시에 마이크가 좀 문제가 있어서 저희가 음질이 좀 안 좋게 나갔는데 다 수정했습니다. 오늘 아마 보신 분들은 문제 없이 들으셨을 것 같아요. 이런 일 없도록 더 음질 체크도 잘 해서 저희가 완벽하게 준비를 해서 앞으로 전해드리도록 하겠습니다. 당첨되신 분들은 아시죠? 채널의 뉴스 유튜브 채널 들어가셔서 커뮤니티라는에 들어가시면 어떻게 선물 받으시는지 나와있으니까요. 꼭 선물 받아가시기 바랍니다. 자 새해 벌써 1월 이제 거의 끝나고 설 연휴가 이제 시작이 되는데요. 여러분들 이번 설 연휴 아주 가족과 함께 따뜻한 시간 잘 보내시기 바랍니다. 저는 오늘 여기서 인사드리겠습니다. 감사합니다. 이 시각 기준의 연휴는 1월 7일에 1월 2일에 1월 3일에 1월 3일에 1월 3일에 1월 3일에 1월 3일에 1월 3일에 1월 3일에 1월 3일에 1월 3일에 1월 3일에 1월 3일에 1월 3일에 1월 3일에 1월 3일에 1월 3일에 1월 3일에 1월 3일에 1월 3일에 1월 3일에 1월 3일에 1월 3일에 1월 3일에 1월 3일에 1월 3일에\n"
     ]
    }
   ],
   "source": [
    "import whisper\n",
    "\n",
    "def transcribe_audio(audio_path):\n",
    "    model = whisper.load_model(\"small\")  # 모델 크기: \"tiny\", \"base\", \"small\", \"medium\", \"large\"\n",
    "    result = model.transcribe(audio_path)\n",
    "    return result[\"text\"]\n",
    "\n",
    "# 변환 실행\n",
    "transcript = transcribe_audio(\"audio_new.mp3\")\n",
    "# transcript를 txt 파일로 저장\n",
    "with open(\"transcript.txt\", \"w\", encoding=\"utf-8\") as file:\n",
    "    file.write(transcript)\n",
    "\n",
    "print(transcript)\n"
   ]
  },
  {
   "cell_type": "code",
   "execution_count": 28,
   "metadata": {},
   "outputs": [],
   "source": [
    "with open(\"transcript.txt\", \"r\", encoding=\"utf-8\") as file:\n",
    "    transcript = file.read()\n"
   ]
  },
  {
   "cell_type": "code",
   "execution_count": null,
   "metadata": {},
   "outputs": [
    {
     "name": "stdout",
     "output_type": "stream",
     "text": [
      "GPT 키워드: 주요 키워드: 윤석열 대통령, 부정선거 의혹, 국정원, 선관위, 사전투표, 투표 용지, 보안검사, 헤킹, 개표 시스템, 보완관리체계\n"
     ]
    }
   ],
   "source": [
    "import openai\n",
    "\n",
    "# OpenAI API 키 설정\n",
    "openai.api_key = \"MY_OPENAPI_KEY\"\n",
    "\n",
    "def extract_keywords_gpt(text):\n",
    "    \"\"\"\n",
    "    GPT-4를 이용하여 텍스트에서 핵심 키워드를 추출하는 함수\n",
    "    \"\"\"\n",
    "    response = openai.chat.completions.create(\n",
    "        model=\"gpt-3.5-turbo\",  # 최신 모델 사용\n",
    "        messages=[\n",
    "            {\"role\": \"system\", \"content\": \"너는 유튜브 동영상 내용을 분석하여 키워드를 추출하는 AI야.\"},\n",
    "            {\"role\": \"user\", \"content\": f\"이 텍스트에서 핵심 키워드를 뽑아줘: {text}\"}\n",
    "        ],\n",
    "        temperature=0.5,  # 창의성 조절 (0에 가까울수록 일관된 답변)\n",
    "        max_tokens=100  # 응답 길이 제한\n",
    "    )\n",
    "\n",
    "    # 응답에서 키워드 리스트 추출\n",
    "    return response.choices[0].message.content\n",
    "\n",
    "# 테스트 실행\n",
    "keywords = extract_keywords_gpt(transcript)\n",
    "print(\"GPT 키워드:\", keywords)\n"
   ]
  },
  {
   "cell_type": "code",
   "execution_count": 25,
   "metadata": {},
   "outputs": [
    {
     "data": {
      "text/plain": [
       "15556"
      ]
     },
     "execution_count": 25,
     "metadata": {},
     "output_type": "execute_result"
    }
   ],
   "source": [
    "import tiktoken\n",
    "\n",
    "# OpenAI의 토큰 계산을 위해 'cl100k_base' 인코더 사용 (GPT-3.5 및 GPT-4에서 사용됨)\n",
    "encoding = tiktoken.get_encoding(\"cl100k_base\")\n",
    "\n",
    "# 파일 읽기\n",
    "file_path = \"transcript.txt\"\n",
    "with open(file_path, \"r\", encoding=\"utf-8\") as file:\n",
    "    text_content = file.read()\n",
    "\n",
    "# 토큰 개수 계산\n",
    "token_count = len(encoding.encode(text_content))\n",
    "token_count"
   ]
  },
  {
   "cell_type": "code",
   "execution_count": 31,
   "metadata": {},
   "outputs": [
    {
     "data": {
      "application/vnd.jupyter.widget-view+json": {
       "model_id": "0e82331fd2ac4ce299a83b0eff3d2b3b",
       "version_major": 2,
       "version_minor": 0
      },
      "text/plain": [
       "modules.json:   0%|          | 0.00/229 [00:00<?, ?B/s]"
      ]
     },
     "metadata": {},
     "output_type": "display_data"
    },
    {
     "data": {
      "application/vnd.jupyter.widget-view+json": {
       "model_id": "b95945040da244e1ba0775fe8c6b4bee",
       "version_major": 2,
       "version_minor": 0
      },
      "text/plain": [
       "config_sentence_transformers.json:   0%|          | 0.00/122 [00:00<?, ?B/s]"
      ]
     },
     "metadata": {},
     "output_type": "display_data"
    },
    {
     "data": {
      "application/vnd.jupyter.widget-view+json": {
       "model_id": "7ce1c7238805419b9beafec031bc374f",
       "version_major": 2,
       "version_minor": 0
      },
      "text/plain": [
       "README.md:   0%|          | 0.00/3.52k [00:00<?, ?B/s]"
      ]
     },
     "metadata": {},
     "output_type": "display_data"
    },
    {
     "data": {
      "application/vnd.jupyter.widget-view+json": {
       "model_id": "cdefc71cb2c841e7a5295e63632cd554",
       "version_major": 2,
       "version_minor": 0
      },
      "text/plain": [
       "sentence_bert_config.json:   0%|          | 0.00/53.0 [00:00<?, ?B/s]"
      ]
     },
     "metadata": {},
     "output_type": "display_data"
    },
    {
     "data": {
      "application/vnd.jupyter.widget-view+json": {
       "model_id": "a765360b160b451fbaad64fd2ede42f2",
       "version_major": 2,
       "version_minor": 0
      },
      "text/plain": [
       "config.json:   0%|          | 0.00/594 [00:00<?, ?B/s]"
      ]
     },
     "metadata": {},
     "output_type": "display_data"
    },
    {
     "data": {
      "application/vnd.jupyter.widget-view+json": {
       "model_id": "6b6ea12d79ca4feb8033cf1530311357",
       "version_major": 2,
       "version_minor": 0
      },
      "text/plain": [
       "model.safetensors:   0%|          | 0.00/438M [00:00<?, ?B/s]"
      ]
     },
     "metadata": {},
     "output_type": "display_data"
    },
    {
     "data": {
      "application/vnd.jupyter.widget-view+json": {
       "model_id": "51be51047aba44718c4cc66ac0581ccd",
       "version_major": 2,
       "version_minor": 0
      },
      "text/plain": [
       "tokenizer_config.json:   0%|          | 0.00/1.19k [00:00<?, ?B/s]"
      ]
     },
     "metadata": {},
     "output_type": "display_data"
    },
    {
     "data": {
      "application/vnd.jupyter.widget-view+json": {
       "model_id": "9f721ef9cd954f8898ec2855a289ed1c",
       "version_major": 2,
       "version_minor": 0
      },
      "text/plain": [
       "vocab.txt:   0%|          | 0.00/232k [00:00<?, ?B/s]"
      ]
     },
     "metadata": {},
     "output_type": "display_data"
    },
    {
     "data": {
      "application/vnd.jupyter.widget-view+json": {
       "model_id": "73f1951af1e74df39c7a4d9a7b2768c0",
       "version_major": 2,
       "version_minor": 0
      },
      "text/plain": [
       "tokenizer.json:   0%|          | 0.00/466k [00:00<?, ?B/s]"
      ]
     },
     "metadata": {},
     "output_type": "display_data"
    },
    {
     "data": {
      "application/vnd.jupyter.widget-view+json": {
       "model_id": "7faa1a4acf6d407d9bbad5c4fb1179c1",
       "version_major": 2,
       "version_minor": 0
      },
      "text/plain": [
       "special_tokens_map.json:   0%|          | 0.00/239 [00:00<?, ?B/s]"
      ]
     },
     "metadata": {},
     "output_type": "display_data"
    },
    {
     "data": {
      "application/vnd.jupyter.widget-view+json": {
       "model_id": "3b90e17413bd46218d2108a9b0cfe1fb",
       "version_major": 2,
       "version_minor": 0
      },
      "text/plain": [
       "config.json:   0%|          | 0.00/190 [00:00<?, ?B/s]"
      ]
     },
     "metadata": {},
     "output_type": "display_data"
    },
    {
     "name": "stdout",
     "output_type": "stream",
     "text": [
      "BERT 기반 키워드: ['안녕하세요 동인간유스터지', '중앙선거관리원에 함께', '인세의 무방비더라라고', '성관이의 설명이에요', '국정원의 보안정검이', '알려주셔서 청찰려들이', '당첨자님은 안경님이이신데요', '마찬가지죠 성관이에서는', '국정원의 보안정검에', '선관이의 설명입니다']\n"
     ]
    }
   ],
   "source": [
    "from keybert import KeyBERT\n",
    "from sentence_transformers import SentenceTransformer\n",
    "\n",
    "\n",
    "def extract_keywords_bert(text, top_n=10):\n",
    "    kw_model = KeyBERT(SentenceTransformer(\"paraphrase-mpnet-base-v2\"))\n",
    "    keywords = kw_model.extract_keywords(text, keyphrase_ngram_range=(1, 2), stop_words='english', top_n=top_n)\n",
    "    return [word for word, score in keywords]\n",
    "\n",
    "# 파일 읽기\n",
    "file_path = \"transcript.txt\"\n",
    "with open(file_path, \"r\", encoding=\"utf-8\") as file:\n",
    "    text = file.read()\n",
    "\n",
    "# 키워드 추출 실행\n",
    "keywords = extract_keywords_bert(text)\n",
    "print(\"BERT 기반 키워드:\", keywords)\n"
   ]
  },
  {
   "cell_type": "code",
   "execution_count": 33,
   "metadata": {},
   "outputs": [
    {
     "ename": "OSError",
     "evalue": "You are trying to access a gated repo.\nMake sure to have access to it at https://huggingface.co/mistralai/Mistral-7B-v0.1.\n401 Client Error. (Request ID: Root=1-67cff244-65bb1ac860de04cc002d5632;dd91d5bb-ffb2-4552-8667-02ac5451d1b0)\n\nCannot access gated repo for url https://huggingface.co/mistralai/Mistral-7B-v0.1/resolve/main/config.json.\nAccess to model mistralai/Mistral-7B-v0.1 is restricted. You must have access to it and be authenticated to access it. Please log in.",
     "output_type": "error",
     "traceback": [
      "\u001b[1;31m---------------------------------------------------------------------------\u001b[0m",
      "\u001b[1;31mHTTPError\u001b[0m                                 Traceback (most recent call last)",
      "File \u001b[1;32mc:\\Users\\jhkan\\workspace\\howabout\\youtube\\.venv\\Lib\\site-packages\\huggingface_hub\\utils\\_http.py:406\u001b[0m, in \u001b[0;36mhf_raise_for_status\u001b[1;34m(response, endpoint_name)\u001b[0m\n\u001b[0;32m    405\u001b[0m \u001b[38;5;28;01mtry\u001b[39;00m:\n\u001b[1;32m--> 406\u001b[0m     \u001b[43mresponse\u001b[49m\u001b[38;5;241;43m.\u001b[39;49m\u001b[43mraise_for_status\u001b[49m\u001b[43m(\u001b[49m\u001b[43m)\u001b[49m\n\u001b[0;32m    407\u001b[0m \u001b[38;5;28;01mexcept\u001b[39;00m HTTPError \u001b[38;5;28;01mas\u001b[39;00m e:\n",
      "File \u001b[1;32mc:\\Users\\jhkan\\workspace\\howabout\\youtube\\.venv\\Lib\\site-packages\\requests\\models.py:1024\u001b[0m, in \u001b[0;36mResponse.raise_for_status\u001b[1;34m(self)\u001b[0m\n\u001b[0;32m   1023\u001b[0m \u001b[38;5;28;01mif\u001b[39;00m http_error_msg:\n\u001b[1;32m-> 1024\u001b[0m     \u001b[38;5;28;01mraise\u001b[39;00m HTTPError(http_error_msg, response\u001b[38;5;241m=\u001b[39m\u001b[38;5;28mself\u001b[39m)\n",
      "\u001b[1;31mHTTPError\u001b[0m: 401 Client Error: Unauthorized for url: https://huggingface.co/mistralai/Mistral-7B-v0.1/resolve/main/config.json",
      "\nThe above exception was the direct cause of the following exception:\n",
      "\u001b[1;31mGatedRepoError\u001b[0m                            Traceback (most recent call last)",
      "File \u001b[1;32mc:\\Users\\jhkan\\workspace\\howabout\\youtube\\.venv\\Lib\\site-packages\\transformers\\utils\\hub.py:403\u001b[0m, in \u001b[0;36mcached_file\u001b[1;34m(path_or_repo_id, filename, cache_dir, force_download, resume_download, proxies, token, revision, local_files_only, subfolder, repo_type, user_agent, _raise_exceptions_for_gated_repo, _raise_exceptions_for_missing_entries, _raise_exceptions_for_connection_errors, _commit_hash, **deprecated_kwargs)\u001b[0m\n\u001b[0;32m    401\u001b[0m \u001b[38;5;28;01mtry\u001b[39;00m:\n\u001b[0;32m    402\u001b[0m     \u001b[38;5;66;03m# Load from URL or cache if already cached\u001b[39;00m\n\u001b[1;32m--> 403\u001b[0m     resolved_file \u001b[38;5;241m=\u001b[39m \u001b[43mhf_hub_download\u001b[49m\u001b[43m(\u001b[49m\n\u001b[0;32m    404\u001b[0m \u001b[43m        \u001b[49m\u001b[43mpath_or_repo_id\u001b[49m\u001b[43m,\u001b[49m\n\u001b[0;32m    405\u001b[0m \u001b[43m        \u001b[49m\u001b[43mfilename\u001b[49m\u001b[43m,\u001b[49m\n\u001b[0;32m    406\u001b[0m \u001b[43m        \u001b[49m\u001b[43msubfolder\u001b[49m\u001b[38;5;241;43m=\u001b[39;49m\u001b[38;5;28;43;01mNone\u001b[39;49;00m\u001b[43m \u001b[49m\u001b[38;5;28;43;01mif\u001b[39;49;00m\u001b[43m \u001b[49m\u001b[38;5;28;43mlen\u001b[39;49m\u001b[43m(\u001b[49m\u001b[43msubfolder\u001b[49m\u001b[43m)\u001b[49m\u001b[43m \u001b[49m\u001b[38;5;241;43m==\u001b[39;49m\u001b[43m \u001b[49m\u001b[38;5;241;43m0\u001b[39;49m\u001b[43m \u001b[49m\u001b[38;5;28;43;01melse\u001b[39;49;00m\u001b[43m \u001b[49m\u001b[43msubfolder\u001b[49m\u001b[43m,\u001b[49m\n\u001b[0;32m    407\u001b[0m \u001b[43m        \u001b[49m\u001b[43mrepo_type\u001b[49m\u001b[38;5;241;43m=\u001b[39;49m\u001b[43mrepo_type\u001b[49m\u001b[43m,\u001b[49m\n\u001b[0;32m    408\u001b[0m \u001b[43m        \u001b[49m\u001b[43mrevision\u001b[49m\u001b[38;5;241;43m=\u001b[39;49m\u001b[43mrevision\u001b[49m\u001b[43m,\u001b[49m\n\u001b[0;32m    409\u001b[0m \u001b[43m        \u001b[49m\u001b[43mcache_dir\u001b[49m\u001b[38;5;241;43m=\u001b[39;49m\u001b[43mcache_dir\u001b[49m\u001b[43m,\u001b[49m\n\u001b[0;32m    410\u001b[0m \u001b[43m        \u001b[49m\u001b[43muser_agent\u001b[49m\u001b[38;5;241;43m=\u001b[39;49m\u001b[43muser_agent\u001b[49m\u001b[43m,\u001b[49m\n\u001b[0;32m    411\u001b[0m \u001b[43m        \u001b[49m\u001b[43mforce_download\u001b[49m\u001b[38;5;241;43m=\u001b[39;49m\u001b[43mforce_download\u001b[49m\u001b[43m,\u001b[49m\n\u001b[0;32m    412\u001b[0m \u001b[43m        \u001b[49m\u001b[43mproxies\u001b[49m\u001b[38;5;241;43m=\u001b[39;49m\u001b[43mproxies\u001b[49m\u001b[43m,\u001b[49m\n\u001b[0;32m    413\u001b[0m \u001b[43m        \u001b[49m\u001b[43mresume_download\u001b[49m\u001b[38;5;241;43m=\u001b[39;49m\u001b[43mresume_download\u001b[49m\u001b[43m,\u001b[49m\n\u001b[0;32m    414\u001b[0m \u001b[43m        \u001b[49m\u001b[43mtoken\u001b[49m\u001b[38;5;241;43m=\u001b[39;49m\u001b[43mtoken\u001b[49m\u001b[43m,\u001b[49m\n\u001b[0;32m    415\u001b[0m \u001b[43m        \u001b[49m\u001b[43mlocal_files_only\u001b[49m\u001b[38;5;241;43m=\u001b[39;49m\u001b[43mlocal_files_only\u001b[49m\u001b[43m,\u001b[49m\n\u001b[0;32m    416\u001b[0m \u001b[43m    \u001b[49m\u001b[43m)\u001b[49m\n\u001b[0;32m    417\u001b[0m \u001b[38;5;28;01mexcept\u001b[39;00m GatedRepoError \u001b[38;5;28;01mas\u001b[39;00m e:\n",
      "File \u001b[1;32mc:\\Users\\jhkan\\workspace\\howabout\\youtube\\.venv\\Lib\\site-packages\\huggingface_hub\\utils\\_validators.py:114\u001b[0m, in \u001b[0;36mvalidate_hf_hub_args.<locals>._inner_fn\u001b[1;34m(*args, **kwargs)\u001b[0m\n\u001b[0;32m    112\u001b[0m     kwargs \u001b[38;5;241m=\u001b[39m smoothly_deprecate_use_auth_token(fn_name\u001b[38;5;241m=\u001b[39mfn\u001b[38;5;241m.\u001b[39m\u001b[38;5;18m__name__\u001b[39m, has_token\u001b[38;5;241m=\u001b[39mhas_token, kwargs\u001b[38;5;241m=\u001b[39mkwargs)\n\u001b[1;32m--> 114\u001b[0m \u001b[38;5;28;01mreturn\u001b[39;00m \u001b[43mfn\u001b[49m\u001b[43m(\u001b[49m\u001b[38;5;241;43m*\u001b[39;49m\u001b[43margs\u001b[49m\u001b[43m,\u001b[49m\u001b[43m \u001b[49m\u001b[38;5;241;43m*\u001b[39;49m\u001b[38;5;241;43m*\u001b[39;49m\u001b[43mkwargs\u001b[49m\u001b[43m)\u001b[49m\n",
      "File \u001b[1;32mc:\\Users\\jhkan\\workspace\\howabout\\youtube\\.venv\\Lib\\site-packages\\huggingface_hub\\file_download.py:860\u001b[0m, in \u001b[0;36mhf_hub_download\u001b[1;34m(repo_id, filename, subfolder, repo_type, revision, library_name, library_version, cache_dir, local_dir, user_agent, force_download, proxies, etag_timeout, token, local_files_only, headers, endpoint, resume_download, force_filename, local_dir_use_symlinks)\u001b[0m\n\u001b[0;32m    859\u001b[0m \u001b[38;5;28;01melse\u001b[39;00m:\n\u001b[1;32m--> 860\u001b[0m     \u001b[38;5;28;01mreturn\u001b[39;00m \u001b[43m_hf_hub_download_to_cache_dir\u001b[49m\u001b[43m(\u001b[49m\n\u001b[0;32m    861\u001b[0m \u001b[43m        \u001b[49m\u001b[38;5;66;43;03m# Destination\u001b[39;49;00m\n\u001b[0;32m    862\u001b[0m \u001b[43m        \u001b[49m\u001b[43mcache_dir\u001b[49m\u001b[38;5;241;43m=\u001b[39;49m\u001b[43mcache_dir\u001b[49m\u001b[43m,\u001b[49m\n\u001b[0;32m    863\u001b[0m \u001b[43m        \u001b[49m\u001b[38;5;66;43;03m# File info\u001b[39;49;00m\n\u001b[0;32m    864\u001b[0m \u001b[43m        \u001b[49m\u001b[43mrepo_id\u001b[49m\u001b[38;5;241;43m=\u001b[39;49m\u001b[43mrepo_id\u001b[49m\u001b[43m,\u001b[49m\n\u001b[0;32m    865\u001b[0m \u001b[43m        \u001b[49m\u001b[43mfilename\u001b[49m\u001b[38;5;241;43m=\u001b[39;49m\u001b[43mfilename\u001b[49m\u001b[43m,\u001b[49m\n\u001b[0;32m    866\u001b[0m \u001b[43m        \u001b[49m\u001b[43mrepo_type\u001b[49m\u001b[38;5;241;43m=\u001b[39;49m\u001b[43mrepo_type\u001b[49m\u001b[43m,\u001b[49m\n\u001b[0;32m    867\u001b[0m \u001b[43m        \u001b[49m\u001b[43mrevision\u001b[49m\u001b[38;5;241;43m=\u001b[39;49m\u001b[43mrevision\u001b[49m\u001b[43m,\u001b[49m\n\u001b[0;32m    868\u001b[0m \u001b[43m        \u001b[49m\u001b[38;5;66;43;03m# HTTP info\u001b[39;49;00m\n\u001b[0;32m    869\u001b[0m \u001b[43m        \u001b[49m\u001b[43mendpoint\u001b[49m\u001b[38;5;241;43m=\u001b[39;49m\u001b[43mendpoint\u001b[49m\u001b[43m,\u001b[49m\n\u001b[0;32m    870\u001b[0m \u001b[43m        \u001b[49m\u001b[43metag_timeout\u001b[49m\u001b[38;5;241;43m=\u001b[39;49m\u001b[43metag_timeout\u001b[49m\u001b[43m,\u001b[49m\n\u001b[0;32m    871\u001b[0m \u001b[43m        \u001b[49m\u001b[43mheaders\u001b[49m\u001b[38;5;241;43m=\u001b[39;49m\u001b[43mhf_headers\u001b[49m\u001b[43m,\u001b[49m\n\u001b[0;32m    872\u001b[0m \u001b[43m        \u001b[49m\u001b[43mproxies\u001b[49m\u001b[38;5;241;43m=\u001b[39;49m\u001b[43mproxies\u001b[49m\u001b[43m,\u001b[49m\n\u001b[0;32m    873\u001b[0m \u001b[43m        \u001b[49m\u001b[43mtoken\u001b[49m\u001b[38;5;241;43m=\u001b[39;49m\u001b[43mtoken\u001b[49m\u001b[43m,\u001b[49m\n\u001b[0;32m    874\u001b[0m \u001b[43m        \u001b[49m\u001b[38;5;66;43;03m# Additional options\u001b[39;49;00m\n\u001b[0;32m    875\u001b[0m \u001b[43m        \u001b[49m\u001b[43mlocal_files_only\u001b[49m\u001b[38;5;241;43m=\u001b[39;49m\u001b[43mlocal_files_only\u001b[49m\u001b[43m,\u001b[49m\n\u001b[0;32m    876\u001b[0m \u001b[43m        \u001b[49m\u001b[43mforce_download\u001b[49m\u001b[38;5;241;43m=\u001b[39;49m\u001b[43mforce_download\u001b[49m\u001b[43m,\u001b[49m\n\u001b[0;32m    877\u001b[0m \u001b[43m    \u001b[49m\u001b[43m)\u001b[49m\n",
      "File \u001b[1;32mc:\\Users\\jhkan\\workspace\\howabout\\youtube\\.venv\\Lib\\site-packages\\huggingface_hub\\file_download.py:967\u001b[0m, in \u001b[0;36m_hf_hub_download_to_cache_dir\u001b[1;34m(cache_dir, repo_id, filename, repo_type, revision, endpoint, etag_timeout, headers, proxies, token, local_files_only, force_download)\u001b[0m\n\u001b[0;32m    966\u001b[0m     \u001b[38;5;66;03m# Otherwise, raise appropriate error\u001b[39;00m\n\u001b[1;32m--> 967\u001b[0m     \u001b[43m_raise_on_head_call_error\u001b[49m\u001b[43m(\u001b[49m\u001b[43mhead_call_error\u001b[49m\u001b[43m,\u001b[49m\u001b[43m \u001b[49m\u001b[43mforce_download\u001b[49m\u001b[43m,\u001b[49m\u001b[43m \u001b[49m\u001b[43mlocal_files_only\u001b[49m\u001b[43m)\u001b[49m\n\u001b[0;32m    969\u001b[0m \u001b[38;5;66;03m# From now on, etag, commit_hash, url and size are not None.\u001b[39;00m\n",
      "File \u001b[1;32mc:\\Users\\jhkan\\workspace\\howabout\\youtube\\.venv\\Lib\\site-packages\\huggingface_hub\\file_download.py:1482\u001b[0m, in \u001b[0;36m_raise_on_head_call_error\u001b[1;34m(head_call_error, force_download, local_files_only)\u001b[0m\n\u001b[0;32m   1480\u001b[0m \u001b[38;5;28;01melif\u001b[39;00m \u001b[38;5;28misinstance\u001b[39m(head_call_error, RepositoryNotFoundError) \u001b[38;5;129;01mor\u001b[39;00m \u001b[38;5;28misinstance\u001b[39m(head_call_error, GatedRepoError):\n\u001b[0;32m   1481\u001b[0m     \u001b[38;5;66;03m# Repo not found or gated => let's raise the actual error\u001b[39;00m\n\u001b[1;32m-> 1482\u001b[0m     \u001b[38;5;28;01mraise\u001b[39;00m head_call_error\n\u001b[0;32m   1483\u001b[0m \u001b[38;5;28;01melse\u001b[39;00m:\n\u001b[0;32m   1484\u001b[0m     \u001b[38;5;66;03m# Otherwise: most likely a connection issue or Hub downtime => let's warn the user\u001b[39;00m\n",
      "File \u001b[1;32mc:\\Users\\jhkan\\workspace\\howabout\\youtube\\.venv\\Lib\\site-packages\\huggingface_hub\\file_download.py:1374\u001b[0m, in \u001b[0;36m_get_metadata_or_catch_error\u001b[1;34m(repo_id, filename, repo_type, revision, endpoint, proxies, etag_timeout, headers, token, local_files_only, relative_filename, storage_folder)\u001b[0m\n\u001b[0;32m   1373\u001b[0m \u001b[38;5;28;01mtry\u001b[39;00m:\n\u001b[1;32m-> 1374\u001b[0m     metadata \u001b[38;5;241m=\u001b[39m \u001b[43mget_hf_file_metadata\u001b[49m\u001b[43m(\u001b[49m\n\u001b[0;32m   1375\u001b[0m \u001b[43m        \u001b[49m\u001b[43murl\u001b[49m\u001b[38;5;241;43m=\u001b[39;49m\u001b[43murl\u001b[49m\u001b[43m,\u001b[49m\u001b[43m \u001b[49m\u001b[43mproxies\u001b[49m\u001b[38;5;241;43m=\u001b[39;49m\u001b[43mproxies\u001b[49m\u001b[43m,\u001b[49m\u001b[43m \u001b[49m\u001b[43mtimeout\u001b[49m\u001b[38;5;241;43m=\u001b[39;49m\u001b[43metag_timeout\u001b[49m\u001b[43m,\u001b[49m\u001b[43m \u001b[49m\u001b[43mheaders\u001b[49m\u001b[38;5;241;43m=\u001b[39;49m\u001b[43mheaders\u001b[49m\u001b[43m,\u001b[49m\u001b[43m \u001b[49m\u001b[43mtoken\u001b[49m\u001b[38;5;241;43m=\u001b[39;49m\u001b[43mtoken\u001b[49m\n\u001b[0;32m   1376\u001b[0m \u001b[43m    \u001b[49m\u001b[43m)\u001b[49m\n\u001b[0;32m   1377\u001b[0m \u001b[38;5;28;01mexcept\u001b[39;00m EntryNotFoundError \u001b[38;5;28;01mas\u001b[39;00m http_error:\n",
      "File \u001b[1;32mc:\\Users\\jhkan\\workspace\\howabout\\youtube\\.venv\\Lib\\site-packages\\huggingface_hub\\utils\\_validators.py:114\u001b[0m, in \u001b[0;36mvalidate_hf_hub_args.<locals>._inner_fn\u001b[1;34m(*args, **kwargs)\u001b[0m\n\u001b[0;32m    112\u001b[0m     kwargs \u001b[38;5;241m=\u001b[39m smoothly_deprecate_use_auth_token(fn_name\u001b[38;5;241m=\u001b[39mfn\u001b[38;5;241m.\u001b[39m\u001b[38;5;18m__name__\u001b[39m, has_token\u001b[38;5;241m=\u001b[39mhas_token, kwargs\u001b[38;5;241m=\u001b[39mkwargs)\n\u001b[1;32m--> 114\u001b[0m \u001b[38;5;28;01mreturn\u001b[39;00m \u001b[43mfn\u001b[49m\u001b[43m(\u001b[49m\u001b[38;5;241;43m*\u001b[39;49m\u001b[43margs\u001b[49m\u001b[43m,\u001b[49m\u001b[43m \u001b[49m\u001b[38;5;241;43m*\u001b[39;49m\u001b[38;5;241;43m*\u001b[39;49m\u001b[43mkwargs\u001b[49m\u001b[43m)\u001b[49m\n",
      "File \u001b[1;32mc:\\Users\\jhkan\\workspace\\howabout\\youtube\\.venv\\Lib\\site-packages\\huggingface_hub\\file_download.py:1294\u001b[0m, in \u001b[0;36mget_hf_file_metadata\u001b[1;34m(url, token, proxies, timeout, library_name, library_version, user_agent, headers)\u001b[0m\n\u001b[0;32m   1293\u001b[0m \u001b[38;5;66;03m# Retrieve metadata\u001b[39;00m\n\u001b[1;32m-> 1294\u001b[0m r \u001b[38;5;241m=\u001b[39m \u001b[43m_request_wrapper\u001b[49m\u001b[43m(\u001b[49m\n\u001b[0;32m   1295\u001b[0m \u001b[43m    \u001b[49m\u001b[43mmethod\u001b[49m\u001b[38;5;241;43m=\u001b[39;49m\u001b[38;5;124;43m\"\u001b[39;49m\u001b[38;5;124;43mHEAD\u001b[39;49m\u001b[38;5;124;43m\"\u001b[39;49m\u001b[43m,\u001b[49m\n\u001b[0;32m   1296\u001b[0m \u001b[43m    \u001b[49m\u001b[43murl\u001b[49m\u001b[38;5;241;43m=\u001b[39;49m\u001b[43murl\u001b[49m\u001b[43m,\u001b[49m\n\u001b[0;32m   1297\u001b[0m \u001b[43m    \u001b[49m\u001b[43mheaders\u001b[49m\u001b[38;5;241;43m=\u001b[39;49m\u001b[43mhf_headers\u001b[49m\u001b[43m,\u001b[49m\n\u001b[0;32m   1298\u001b[0m \u001b[43m    \u001b[49m\u001b[43mallow_redirects\u001b[49m\u001b[38;5;241;43m=\u001b[39;49m\u001b[38;5;28;43;01mFalse\u001b[39;49;00m\u001b[43m,\u001b[49m\n\u001b[0;32m   1299\u001b[0m \u001b[43m    \u001b[49m\u001b[43mfollow_relative_redirects\u001b[49m\u001b[38;5;241;43m=\u001b[39;49m\u001b[38;5;28;43;01mTrue\u001b[39;49;00m\u001b[43m,\u001b[49m\n\u001b[0;32m   1300\u001b[0m \u001b[43m    \u001b[49m\u001b[43mproxies\u001b[49m\u001b[38;5;241;43m=\u001b[39;49m\u001b[43mproxies\u001b[49m\u001b[43m,\u001b[49m\n\u001b[0;32m   1301\u001b[0m \u001b[43m    \u001b[49m\u001b[43mtimeout\u001b[49m\u001b[38;5;241;43m=\u001b[39;49m\u001b[43mtimeout\u001b[49m\u001b[43m,\u001b[49m\n\u001b[0;32m   1302\u001b[0m \u001b[43m\u001b[49m\u001b[43m)\u001b[49m\n\u001b[0;32m   1303\u001b[0m hf_raise_for_status(r)\n",
      "File \u001b[1;32mc:\\Users\\jhkan\\workspace\\howabout\\youtube\\.venv\\Lib\\site-packages\\huggingface_hub\\file_download.py:278\u001b[0m, in \u001b[0;36m_request_wrapper\u001b[1;34m(method, url, follow_relative_redirects, **params)\u001b[0m\n\u001b[0;32m    277\u001b[0m \u001b[38;5;28;01mif\u001b[39;00m follow_relative_redirects:\n\u001b[1;32m--> 278\u001b[0m     response \u001b[38;5;241m=\u001b[39m \u001b[43m_request_wrapper\u001b[49m\u001b[43m(\u001b[49m\n\u001b[0;32m    279\u001b[0m \u001b[43m        \u001b[49m\u001b[43mmethod\u001b[49m\u001b[38;5;241;43m=\u001b[39;49m\u001b[43mmethod\u001b[49m\u001b[43m,\u001b[49m\n\u001b[0;32m    280\u001b[0m \u001b[43m        \u001b[49m\u001b[43murl\u001b[49m\u001b[38;5;241;43m=\u001b[39;49m\u001b[43murl\u001b[49m\u001b[43m,\u001b[49m\n\u001b[0;32m    281\u001b[0m \u001b[43m        \u001b[49m\u001b[43mfollow_relative_redirects\u001b[49m\u001b[38;5;241;43m=\u001b[39;49m\u001b[38;5;28;43;01mFalse\u001b[39;49;00m\u001b[43m,\u001b[49m\n\u001b[0;32m    282\u001b[0m \u001b[43m        \u001b[49m\u001b[38;5;241;43m*\u001b[39;49m\u001b[38;5;241;43m*\u001b[39;49m\u001b[43mparams\u001b[49m\u001b[43m,\u001b[49m\n\u001b[0;32m    283\u001b[0m \u001b[43m    \u001b[49m\u001b[43m)\u001b[49m\n\u001b[0;32m    285\u001b[0m     \u001b[38;5;66;03m# If redirection, we redirect only relative paths.\u001b[39;00m\n\u001b[0;32m    286\u001b[0m     \u001b[38;5;66;03m# This is useful in case of a renamed repository.\u001b[39;00m\n",
      "File \u001b[1;32mc:\\Users\\jhkan\\workspace\\howabout\\youtube\\.venv\\Lib\\site-packages\\huggingface_hub\\file_download.py:302\u001b[0m, in \u001b[0;36m_request_wrapper\u001b[1;34m(method, url, follow_relative_redirects, **params)\u001b[0m\n\u001b[0;32m    301\u001b[0m response \u001b[38;5;241m=\u001b[39m get_session()\u001b[38;5;241m.\u001b[39mrequest(method\u001b[38;5;241m=\u001b[39mmethod, url\u001b[38;5;241m=\u001b[39murl, \u001b[38;5;241m*\u001b[39m\u001b[38;5;241m*\u001b[39mparams)\n\u001b[1;32m--> 302\u001b[0m \u001b[43mhf_raise_for_status\u001b[49m\u001b[43m(\u001b[49m\u001b[43mresponse\u001b[49m\u001b[43m)\u001b[49m\n\u001b[0;32m    303\u001b[0m \u001b[38;5;28;01mreturn\u001b[39;00m response\n",
      "File \u001b[1;32mc:\\Users\\jhkan\\workspace\\howabout\\youtube\\.venv\\Lib\\site-packages\\huggingface_hub\\utils\\_http.py:423\u001b[0m, in \u001b[0;36mhf_raise_for_status\u001b[1;34m(response, endpoint_name)\u001b[0m\n\u001b[0;32m    420\u001b[0m     message \u001b[38;5;241m=\u001b[39m (\n\u001b[0;32m    421\u001b[0m         \u001b[38;5;124mf\u001b[39m\u001b[38;5;124m\"\u001b[39m\u001b[38;5;132;01m{\u001b[39;00mresponse\u001b[38;5;241m.\u001b[39mstatus_code\u001b[38;5;132;01m}\u001b[39;00m\u001b[38;5;124m Client Error.\u001b[39m\u001b[38;5;124m\"\u001b[39m \u001b[38;5;241m+\u001b[39m \u001b[38;5;124m\"\u001b[39m\u001b[38;5;130;01m\\n\u001b[39;00m\u001b[38;5;130;01m\\n\u001b[39;00m\u001b[38;5;124m\"\u001b[39m \u001b[38;5;241m+\u001b[39m \u001b[38;5;124mf\u001b[39m\u001b[38;5;124m\"\u001b[39m\u001b[38;5;124mCannot access gated repo for url \u001b[39m\u001b[38;5;132;01m{\u001b[39;00mresponse\u001b[38;5;241m.\u001b[39murl\u001b[38;5;132;01m}\u001b[39;00m\u001b[38;5;124m.\u001b[39m\u001b[38;5;124m\"\u001b[39m\n\u001b[0;32m    422\u001b[0m     )\n\u001b[1;32m--> 423\u001b[0m     \u001b[38;5;28;01mraise\u001b[39;00m _format(GatedRepoError, message, response) \u001b[38;5;28;01mfrom\u001b[39;00m\u001b[38;5;250m \u001b[39m\u001b[38;5;21;01me\u001b[39;00m\n\u001b[0;32m    425\u001b[0m \u001b[38;5;28;01melif\u001b[39;00m error_message \u001b[38;5;241m==\u001b[39m \u001b[38;5;124m\"\u001b[39m\u001b[38;5;124mAccess to this resource is disabled.\u001b[39m\u001b[38;5;124m\"\u001b[39m:\n",
      "\u001b[1;31mGatedRepoError\u001b[0m: 401 Client Error. (Request ID: Root=1-67cff244-65bb1ac860de04cc002d5632;dd91d5bb-ffb2-4552-8667-02ac5451d1b0)\n\nCannot access gated repo for url https://huggingface.co/mistralai/Mistral-7B-v0.1/resolve/main/config.json.\nAccess to model mistralai/Mistral-7B-v0.1 is restricted. You must have access to it and be authenticated to access it. Please log in.",
      "\nThe above exception was the direct cause of the following exception:\n",
      "\u001b[1;31mOSError\u001b[0m                                   Traceback (most recent call last)",
      "Cell \u001b[1;32mIn[33], line 5\u001b[0m\n\u001b[0;32m      3\u001b[0m \u001b[38;5;66;03m# 무료 GPT 대체 모델 (Mistral 사용)\u001b[39;00m\n\u001b[0;32m      4\u001b[0m model_name \u001b[38;5;241m=\u001b[39m \u001b[38;5;124m\"\u001b[39m\u001b[38;5;124mmistralai/Mistral-7B-v0.1\u001b[39m\u001b[38;5;124m\"\u001b[39m\n\u001b[1;32m----> 5\u001b[0m llm \u001b[38;5;241m=\u001b[39m \u001b[43mpipeline\u001b[49m\u001b[43m(\u001b[49m\u001b[38;5;124;43m\"\u001b[39;49m\u001b[38;5;124;43mtext-generation\u001b[39;49m\u001b[38;5;124;43m\"\u001b[39;49m\u001b[43m,\u001b[49m\u001b[43m \u001b[49m\u001b[43mmodel\u001b[49m\u001b[38;5;241;43m=\u001b[39;49m\u001b[43mmodel_name\u001b[49m\u001b[43m,\u001b[49m\u001b[43m \u001b[49m\u001b[43mdevice\u001b[49m\u001b[38;5;241;43m=\u001b[39;49m\u001b[38;5;124;43m\"\u001b[39;49m\u001b[38;5;124;43mcpu\u001b[39;49m\u001b[38;5;124;43m\"\u001b[39;49m\u001b[43m)\u001b[49m\n\u001b[0;32m      7\u001b[0m \u001b[38;5;28;01mdef\u001b[39;00m\u001b[38;5;250m \u001b[39m\u001b[38;5;21mextract_keywords_mistral\u001b[39m(text):\n\u001b[0;32m      8\u001b[0m     prompt \u001b[38;5;241m=\u001b[39m \u001b[38;5;124mf\u001b[39m\u001b[38;5;124m\"\u001b[39m\u001b[38;5;124mExtract the 10 most important keywords from the following text:\u001b[39m\u001b[38;5;130;01m\\n\u001b[39;00m\u001b[38;5;130;01m\\n\u001b[39;00m\u001b[38;5;132;01m{\u001b[39;00mtext\u001b[38;5;132;01m}\u001b[39;00m\u001b[38;5;130;01m\\n\u001b[39;00m\u001b[38;5;130;01m\\n\u001b[39;00m\u001b[38;5;124mKeywords:\u001b[39m\u001b[38;5;124m\"\u001b[39m\n",
      "File \u001b[1;32mc:\\Users\\jhkan\\workspace\\howabout\\youtube\\.venv\\Lib\\site-packages\\transformers\\pipelines\\__init__.py:849\u001b[0m, in \u001b[0;36mpipeline\u001b[1;34m(task, model, config, tokenizer, feature_extractor, image_processor, processor, framework, revision, use_fast, token, device, device_map, torch_dtype, trust_remote_code, model_kwargs, pipeline_class, **kwargs)\u001b[0m\n\u001b[0;32m    846\u001b[0m                 adapter_config \u001b[38;5;241m=\u001b[39m json\u001b[38;5;241m.\u001b[39mload(f)\n\u001b[0;32m    847\u001b[0m                 model \u001b[38;5;241m=\u001b[39m adapter_config[\u001b[38;5;124m\"\u001b[39m\u001b[38;5;124mbase_model_name_or_path\u001b[39m\u001b[38;5;124m\"\u001b[39m]\n\u001b[1;32m--> 849\u001b[0m     config \u001b[38;5;241m=\u001b[39m \u001b[43mAutoConfig\u001b[49m\u001b[38;5;241;43m.\u001b[39;49m\u001b[43mfrom_pretrained\u001b[49m\u001b[43m(\u001b[49m\n\u001b[0;32m    850\u001b[0m \u001b[43m        \u001b[49m\u001b[43mmodel\u001b[49m\u001b[43m,\u001b[49m\u001b[43m \u001b[49m\u001b[43m_from_pipeline\u001b[49m\u001b[38;5;241;43m=\u001b[39;49m\u001b[43mtask\u001b[49m\u001b[43m,\u001b[49m\u001b[43m \u001b[49m\u001b[43mcode_revision\u001b[49m\u001b[38;5;241;43m=\u001b[39;49m\u001b[43mcode_revision\u001b[49m\u001b[43m,\u001b[49m\u001b[43m \u001b[49m\u001b[38;5;241;43m*\u001b[39;49m\u001b[38;5;241;43m*\u001b[39;49m\u001b[43mhub_kwargs\u001b[49m\u001b[43m,\u001b[49m\u001b[43m \u001b[49m\u001b[38;5;241;43m*\u001b[39;49m\u001b[38;5;241;43m*\u001b[39;49m\u001b[43mmodel_kwargs\u001b[49m\n\u001b[0;32m    851\u001b[0m \u001b[43m    \u001b[49m\u001b[43m)\u001b[49m\n\u001b[0;32m    852\u001b[0m     hub_kwargs[\u001b[38;5;124m\"\u001b[39m\u001b[38;5;124m_commit_hash\u001b[39m\u001b[38;5;124m\"\u001b[39m] \u001b[38;5;241m=\u001b[39m config\u001b[38;5;241m.\u001b[39m_commit_hash\n\u001b[0;32m    854\u001b[0m custom_tasks \u001b[38;5;241m=\u001b[39m {}\n",
      "File \u001b[1;32mc:\\Users\\jhkan\\workspace\\howabout\\youtube\\.venv\\Lib\\site-packages\\transformers\\models\\auto\\configuration_auto.py:1054\u001b[0m, in \u001b[0;36mAutoConfig.from_pretrained\u001b[1;34m(cls, pretrained_model_name_or_path, **kwargs)\u001b[0m\n\u001b[0;32m   1051\u001b[0m trust_remote_code \u001b[38;5;241m=\u001b[39m kwargs\u001b[38;5;241m.\u001b[39mpop(\u001b[38;5;124m\"\u001b[39m\u001b[38;5;124mtrust_remote_code\u001b[39m\u001b[38;5;124m\"\u001b[39m, \u001b[38;5;28;01mNone\u001b[39;00m)\n\u001b[0;32m   1052\u001b[0m code_revision \u001b[38;5;241m=\u001b[39m kwargs\u001b[38;5;241m.\u001b[39mpop(\u001b[38;5;124m\"\u001b[39m\u001b[38;5;124mcode_revision\u001b[39m\u001b[38;5;124m\"\u001b[39m, \u001b[38;5;28;01mNone\u001b[39;00m)\n\u001b[1;32m-> 1054\u001b[0m config_dict, unused_kwargs \u001b[38;5;241m=\u001b[39m \u001b[43mPretrainedConfig\u001b[49m\u001b[38;5;241;43m.\u001b[39;49m\u001b[43mget_config_dict\u001b[49m\u001b[43m(\u001b[49m\u001b[43mpretrained_model_name_or_path\u001b[49m\u001b[43m,\u001b[49m\u001b[43m \u001b[49m\u001b[38;5;241;43m*\u001b[39;49m\u001b[38;5;241;43m*\u001b[39;49m\u001b[43mkwargs\u001b[49m\u001b[43m)\u001b[49m\n\u001b[0;32m   1055\u001b[0m has_remote_code \u001b[38;5;241m=\u001b[39m \u001b[38;5;124m\"\u001b[39m\u001b[38;5;124mauto_map\u001b[39m\u001b[38;5;124m\"\u001b[39m \u001b[38;5;129;01min\u001b[39;00m config_dict \u001b[38;5;129;01mand\u001b[39;00m \u001b[38;5;124m\"\u001b[39m\u001b[38;5;124mAutoConfig\u001b[39m\u001b[38;5;124m\"\u001b[39m \u001b[38;5;129;01min\u001b[39;00m config_dict[\u001b[38;5;124m\"\u001b[39m\u001b[38;5;124mauto_map\u001b[39m\u001b[38;5;124m\"\u001b[39m]\n\u001b[0;32m   1056\u001b[0m has_local_code \u001b[38;5;241m=\u001b[39m \u001b[38;5;124m\"\u001b[39m\u001b[38;5;124mmodel_type\u001b[39m\u001b[38;5;124m\"\u001b[39m \u001b[38;5;129;01min\u001b[39;00m config_dict \u001b[38;5;129;01mand\u001b[39;00m config_dict[\u001b[38;5;124m\"\u001b[39m\u001b[38;5;124mmodel_type\u001b[39m\u001b[38;5;124m\"\u001b[39m] \u001b[38;5;129;01min\u001b[39;00m CONFIG_MAPPING\n",
      "File \u001b[1;32mc:\\Users\\jhkan\\workspace\\howabout\\youtube\\.venv\\Lib\\site-packages\\transformers\\configuration_utils.py:591\u001b[0m, in \u001b[0;36mPretrainedConfig.get_config_dict\u001b[1;34m(cls, pretrained_model_name_or_path, **kwargs)\u001b[0m\n\u001b[0;32m    589\u001b[0m original_kwargs \u001b[38;5;241m=\u001b[39m copy\u001b[38;5;241m.\u001b[39mdeepcopy(kwargs)\n\u001b[0;32m    590\u001b[0m \u001b[38;5;66;03m# Get config dict associated with the base config file\u001b[39;00m\n\u001b[1;32m--> 591\u001b[0m config_dict, kwargs \u001b[38;5;241m=\u001b[39m \u001b[38;5;28;43mcls\u001b[39;49m\u001b[38;5;241;43m.\u001b[39;49m\u001b[43m_get_config_dict\u001b[49m\u001b[43m(\u001b[49m\u001b[43mpretrained_model_name_or_path\u001b[49m\u001b[43m,\u001b[49m\u001b[43m \u001b[49m\u001b[38;5;241;43m*\u001b[39;49m\u001b[38;5;241;43m*\u001b[39;49m\u001b[43mkwargs\u001b[49m\u001b[43m)\u001b[49m\n\u001b[0;32m    592\u001b[0m \u001b[38;5;28;01mif\u001b[39;00m config_dict \u001b[38;5;129;01mis\u001b[39;00m \u001b[38;5;28;01mNone\u001b[39;00m:\n\u001b[0;32m    593\u001b[0m     \u001b[38;5;28;01mreturn\u001b[39;00m {}, kwargs\n",
      "File \u001b[1;32mc:\\Users\\jhkan\\workspace\\howabout\\youtube\\.venv\\Lib\\site-packages\\transformers\\configuration_utils.py:650\u001b[0m, in \u001b[0;36mPretrainedConfig._get_config_dict\u001b[1;34m(cls, pretrained_model_name_or_path, **kwargs)\u001b[0m\n\u001b[0;32m    646\u001b[0m configuration_file \u001b[38;5;241m=\u001b[39m kwargs\u001b[38;5;241m.\u001b[39mpop(\u001b[38;5;124m\"\u001b[39m\u001b[38;5;124m_configuration_file\u001b[39m\u001b[38;5;124m\"\u001b[39m, CONFIG_NAME) \u001b[38;5;28;01mif\u001b[39;00m gguf_file \u001b[38;5;129;01mis\u001b[39;00m \u001b[38;5;28;01mNone\u001b[39;00m \u001b[38;5;28;01melse\u001b[39;00m gguf_file\n\u001b[0;32m    648\u001b[0m \u001b[38;5;28;01mtry\u001b[39;00m:\n\u001b[0;32m    649\u001b[0m     \u001b[38;5;66;03m# Load from local folder or from cache or download from model Hub and cache\u001b[39;00m\n\u001b[1;32m--> 650\u001b[0m     resolved_config_file \u001b[38;5;241m=\u001b[39m \u001b[43mcached_file\u001b[49m\u001b[43m(\u001b[49m\n\u001b[0;32m    651\u001b[0m \u001b[43m        \u001b[49m\u001b[43mpretrained_model_name_or_path\u001b[49m\u001b[43m,\u001b[49m\n\u001b[0;32m    652\u001b[0m \u001b[43m        \u001b[49m\u001b[43mconfiguration_file\u001b[49m\u001b[43m,\u001b[49m\n\u001b[0;32m    653\u001b[0m \u001b[43m        \u001b[49m\u001b[43mcache_dir\u001b[49m\u001b[38;5;241;43m=\u001b[39;49m\u001b[43mcache_dir\u001b[49m\u001b[43m,\u001b[49m\n\u001b[0;32m    654\u001b[0m \u001b[43m        \u001b[49m\u001b[43mforce_download\u001b[49m\u001b[38;5;241;43m=\u001b[39;49m\u001b[43mforce_download\u001b[49m\u001b[43m,\u001b[49m\n\u001b[0;32m    655\u001b[0m \u001b[43m        \u001b[49m\u001b[43mproxies\u001b[49m\u001b[38;5;241;43m=\u001b[39;49m\u001b[43mproxies\u001b[49m\u001b[43m,\u001b[49m\n\u001b[0;32m    656\u001b[0m \u001b[43m        \u001b[49m\u001b[43mresume_download\u001b[49m\u001b[38;5;241;43m=\u001b[39;49m\u001b[43mresume_download\u001b[49m\u001b[43m,\u001b[49m\n\u001b[0;32m    657\u001b[0m \u001b[43m        \u001b[49m\u001b[43mlocal_files_only\u001b[49m\u001b[38;5;241;43m=\u001b[39;49m\u001b[43mlocal_files_only\u001b[49m\u001b[43m,\u001b[49m\n\u001b[0;32m    658\u001b[0m \u001b[43m        \u001b[49m\u001b[43mtoken\u001b[49m\u001b[38;5;241;43m=\u001b[39;49m\u001b[43mtoken\u001b[49m\u001b[43m,\u001b[49m\n\u001b[0;32m    659\u001b[0m \u001b[43m        \u001b[49m\u001b[43muser_agent\u001b[49m\u001b[38;5;241;43m=\u001b[39;49m\u001b[43muser_agent\u001b[49m\u001b[43m,\u001b[49m\n\u001b[0;32m    660\u001b[0m \u001b[43m        \u001b[49m\u001b[43mrevision\u001b[49m\u001b[38;5;241;43m=\u001b[39;49m\u001b[43mrevision\u001b[49m\u001b[43m,\u001b[49m\n\u001b[0;32m    661\u001b[0m \u001b[43m        \u001b[49m\u001b[43msubfolder\u001b[49m\u001b[38;5;241;43m=\u001b[39;49m\u001b[43msubfolder\u001b[49m\u001b[43m,\u001b[49m\n\u001b[0;32m    662\u001b[0m \u001b[43m        \u001b[49m\u001b[43m_commit_hash\u001b[49m\u001b[38;5;241;43m=\u001b[39;49m\u001b[43mcommit_hash\u001b[49m\u001b[43m,\u001b[49m\n\u001b[0;32m    663\u001b[0m \u001b[43m    \u001b[49m\u001b[43m)\u001b[49m\n\u001b[0;32m    664\u001b[0m     \u001b[38;5;28;01mif\u001b[39;00m resolved_config_file \u001b[38;5;129;01mis\u001b[39;00m \u001b[38;5;28;01mNone\u001b[39;00m:\n\u001b[0;32m    665\u001b[0m         \u001b[38;5;28;01mreturn\u001b[39;00m \u001b[38;5;28;01mNone\u001b[39;00m, kwargs\n",
      "File \u001b[1;32mc:\\Users\\jhkan\\workspace\\howabout\\youtube\\.venv\\Lib\\site-packages\\transformers\\utils\\hub.py:421\u001b[0m, in \u001b[0;36mcached_file\u001b[1;34m(path_or_repo_id, filename, cache_dir, force_download, resume_download, proxies, token, revision, local_files_only, subfolder, repo_type, user_agent, _raise_exceptions_for_gated_repo, _raise_exceptions_for_missing_entries, _raise_exceptions_for_connection_errors, _commit_hash, **deprecated_kwargs)\u001b[0m\n\u001b[0;32m    419\u001b[0m     \u001b[38;5;28;01mif\u001b[39;00m resolved_file \u001b[38;5;129;01mis\u001b[39;00m \u001b[38;5;129;01mnot\u001b[39;00m \u001b[38;5;28;01mNone\u001b[39;00m \u001b[38;5;129;01mor\u001b[39;00m \u001b[38;5;129;01mnot\u001b[39;00m _raise_exceptions_for_gated_repo:\n\u001b[0;32m    420\u001b[0m         \u001b[38;5;28;01mreturn\u001b[39;00m resolved_file\n\u001b[1;32m--> 421\u001b[0m     \u001b[38;5;28;01mraise\u001b[39;00m \u001b[38;5;167;01mEnvironmentError\u001b[39;00m(\n\u001b[0;32m    422\u001b[0m         \u001b[38;5;124m\"\u001b[39m\u001b[38;5;124mYou are trying to access a gated repo.\u001b[39m\u001b[38;5;130;01m\\n\u001b[39;00m\u001b[38;5;124mMake sure to have access to it at \u001b[39m\u001b[38;5;124m\"\u001b[39m\n\u001b[0;32m    423\u001b[0m         \u001b[38;5;124mf\u001b[39m\u001b[38;5;124m\"\u001b[39m\u001b[38;5;124mhttps://huggingface.co/\u001b[39m\u001b[38;5;132;01m{\u001b[39;00mpath_or_repo_id\u001b[38;5;132;01m}\u001b[39;00m\u001b[38;5;124m.\u001b[39m\u001b[38;5;130;01m\\n\u001b[39;00m\u001b[38;5;132;01m{\u001b[39;00m\u001b[38;5;28mstr\u001b[39m(e)\u001b[38;5;132;01m}\u001b[39;00m\u001b[38;5;124m\"\u001b[39m\n\u001b[0;32m    424\u001b[0m     ) \u001b[38;5;28;01mfrom\u001b[39;00m\u001b[38;5;250m \u001b[39m\u001b[38;5;21;01me\u001b[39;00m\n\u001b[0;32m    425\u001b[0m \u001b[38;5;28;01mexcept\u001b[39;00m RepositoryNotFoundError \u001b[38;5;28;01mas\u001b[39;00m e:\n\u001b[0;32m    426\u001b[0m     \u001b[38;5;28;01mraise\u001b[39;00m \u001b[38;5;167;01mEnvironmentError\u001b[39;00m(\n\u001b[0;32m    427\u001b[0m         \u001b[38;5;124mf\u001b[39m\u001b[38;5;124m\"\u001b[39m\u001b[38;5;132;01m{\u001b[39;00mpath_or_repo_id\u001b[38;5;132;01m}\u001b[39;00m\u001b[38;5;124m is not a local folder and is not a valid model identifier \u001b[39m\u001b[38;5;124m\"\u001b[39m\n\u001b[0;32m    428\u001b[0m         \u001b[38;5;124m\"\u001b[39m\u001b[38;5;124mlisted on \u001b[39m\u001b[38;5;124m'\u001b[39m\u001b[38;5;124mhttps://huggingface.co/models\u001b[39m\u001b[38;5;124m'\u001b[39m\u001b[38;5;130;01m\\n\u001b[39;00m\u001b[38;5;124mIf this is a private repository, make sure to pass a token \u001b[39m\u001b[38;5;124m\"\u001b[39m\n\u001b[0;32m    429\u001b[0m         \u001b[38;5;124m\"\u001b[39m\u001b[38;5;124mhaving permission to this repo either by logging in with `huggingface-cli login` or by passing \u001b[39m\u001b[38;5;124m\"\u001b[39m\n\u001b[0;32m    430\u001b[0m         \u001b[38;5;124m\"\u001b[39m\u001b[38;5;124m`token=<your_token>`\u001b[39m\u001b[38;5;124m\"\u001b[39m\n\u001b[0;32m    431\u001b[0m     ) \u001b[38;5;28;01mfrom\u001b[39;00m\u001b[38;5;250m \u001b[39m\u001b[38;5;21;01me\u001b[39;00m\n",
      "\u001b[1;31mOSError\u001b[0m: You are trying to access a gated repo.\nMake sure to have access to it at https://huggingface.co/mistralai/Mistral-7B-v0.1.\n401 Client Error. (Request ID: Root=1-67cff244-65bb1ac860de04cc002d5632;dd91d5bb-ffb2-4552-8667-02ac5451d1b0)\n\nCannot access gated repo for url https://huggingface.co/mistralai/Mistral-7B-v0.1/resolve/main/config.json.\nAccess to model mistralai/Mistral-7B-v0.1 is restricted. You must have access to it and be authenticated to access it. Please log in."
     ]
    }
   ],
   "source": [
    "from transformers import pipeline\n",
    "\n",
    "# 무료 GPT 대체 모델 (Mistral 사용)\n",
    "model_name = \"mistralai/Mistral-7B-v0.1\"\n",
    "llm = pipeline(\"text-generation\", model=model_name, device=\"cpu\")\n",
    "\n",
    "def extract_keywords_mistral(text):\n",
    "    prompt = f\"Extract the 10 most important keywords from the following text:\\n\\n{text}\\n\\nKeywords:\"\n",
    "    result = llm(prompt, max_length=100, do_sample=True, num_return_sequences=1)\n",
    "    return result[0][\"generated_text\"].split(\"\\n\")[-1]\n",
    "\n",
    "# 실행 예제\n",
    "text = \"유튜브에서 조회수를 높이는 방법은 최신 트렌드를 분석하고 인기 있는 주제를 찾는 것입니다.\"\n",
    "print(\"Mistral 7B 키워드:\", extract_keywords_mistral(text))\n"
   ]
  }
 ],
 "metadata": {
  "kernelspec": {
   "display_name": ".venv",
   "language": "python",
   "name": "python3"
  },
  "language_info": {
   "codemirror_mode": {
    "name": "ipython",
    "version": 3
   },
   "file_extension": ".py",
   "mimetype": "text/x-python",
   "name": "python",
   "nbconvert_exporter": "python",
   "pygments_lexer": "ipython3",
   "version": "3.12.1"
  }
 },
 "nbformat": 4,
 "nbformat_minor": 2
}
