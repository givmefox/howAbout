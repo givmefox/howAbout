{
 "cells": [
  {
   "cell_type": "markdown",
   "metadata": {
    "vscode": {
     "languageId": "plaintext"
    }
   },
   "source": [
    "# KR - WordRank"
   ]
  },
  {
   "cell_type": "code",
   "execution_count": null,
   "metadata": {
    "vscode": {
     "languageId": "ini"
    }
   },
   "outputs": [],
   "source": [
    "from krwordrank.word import KRWordRank\n",
    "\n",
    "# Example sentences\n",
    "sentences = [\n",
    "    \"한국어 문장 예시입니다.\",\n",
    "    \"여러 문장을 입력하여 키워드를 추출합니다.\",\n",
    "    \"krwordrank를 사용하여 키워드 추출 예시를 보여줍니다.\"\n",
    "]\n",
    "\n",
    "# Initialize KRWordRank\n",
    "wordrank_extractor = KRWordRank(min_count=5, max_length=10, verbose=True)\n",
    "\n",
    "# Extract keywords\n",
    "beta = 0.85    # Decay coefficient\n",
    "max_iter = 10\n",
    "\n",
    "keywords, rank, graph = wordrank_extractor.extract(sentences, beta, max_iter)\n",
    "\n",
    "# Print the extracted keywords\n",
    "print(keywords)"
   ]
  }
 ],
 "metadata": {
  "language_info": {
   "name": "python"
  }
 },
 "nbformat": 4,
 "nbformat_minor": 2
}
