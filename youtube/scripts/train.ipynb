{
 "cells": [
  {
   "cell_type": "markdown",
   "metadata": {},
   "source": [
    "# 데이터 가져오기"
   ]
  },
  {
   "cell_type": "code",
   "execution_count": 1,
   "metadata": {},
   "outputs": [
    {
     "name": "stdout",
     "output_type": "stream",
     "text": [
      "📌 총 840212개의 댓글을 수집했습니다!\n"
     ]
    }
   ],
   "source": [
    "import os\n",
    "import json\n",
    "import glob\n",
    "from soynlp.noun import LRNounExtractor\n",
    "\n",
    "# 📌 JSON 파일이 들어있는 폴더 경로 (사용자의 폴더 경로로 수정)\n",
    "folder_path = \"../../../게임\"\n",
    "\n",
    "# 📌 폴더 내 모든 JSON 파일 불러오기 (CODE0001.json, CODE0002.json, ...)\n",
    "json_files = glob.glob(os.path.join(folder_path, \"BO*.json\"))\n",
    "\n",
    "# 📌 모든 파일에서 댓글(content)만 추출\n",
    "comments = []\n",
    "for file in json_files:\n",
    "    with open(file, \"r\", encoding=\"utf-8\") as f:\n",
    "        data = json.load(f)  # JSON 파일 로드\n",
    "\n",
    "        # 'text' 항목에서 'content'만 추출\n",
    "        for entry in data[\"SJML\"][\"text\"]:\n",
    "            comments.append(entry[\"content\"])\n",
    "\n",
    "print(f\"📌 총 {len(comments)}개의 댓글을 수집했습니다!\")\n",
    "\n",
    "\n"
   ]
  },
  {
   "cell_type": "code",
   "execution_count": 2,
   "metadata": {},
   "outputs": [
    {
     "name": "stdout",
     "output_type": "stream",
     "text": [
      "📌 전처리 후 840212개의 댓글을 수집했습니다!\n"
     ]
    },
    {
     "data": {
      "text/plain": [
       "['7빠 야효', '양경철 양경철 hello', '구름빵 how sit goi bff', '유림 hi', '1빠다 따석들아']"
      ]
     },
     "execution_count": 2,
     "metadata": {},
     "output_type": "execute_result"
    }
   ],
   "source": [
    "import re\n",
    "# 📌 괄호와 괄호 안의 내용을 제거하는 함수\n",
    "def remove_parentheses(text):\n",
    "    return re.sub(r'\\([^)]*\\)', '', text)\n",
    "\n",
    "# 📌 모든 댓글에 대해 괄호와 괄호 안의 내용을 제거\n",
    "comments = [remove_parentheses(comment) for comment in comments]\n",
    "\n",
    "print(f\"📌 전처리 후 {len(comments)}개의 댓글을 수집했습니다!\")\n",
    "\n",
    "comments[:5]"
   ]
  },
  {
   "cell_type": "markdown",
   "metadata": {},
   "source": [
    "# 텍스트 분할"
   ]
  },
  {
   "cell_type": "code",
   "execution_count": 4,
   "metadata": {},
   "outputs": [
    {
     "name": "stdout",
     "output_type": "stream",
     "text": [
      "학습 데이터 개수: 30000\n",
      "테스트 데이터 개수: 420106\n"
     ]
    }
   ],
   "source": [
    "import random\n",
    "\n",
    "# 📌 데이터 셔플링 (무작위 순서로 섞기)\n",
    "random.shuffle(comments)\n",
    "\n",
    "# 📌 50:50 데이터 분할 (42만 개씩)\n",
    "split_index = len(comments) // 2\n",
    "train_data = comments[:30000]  # 학습 데이터 42만 개\n",
    "test_data = comments[split_index:]  # 테스트 데이터 42만 개\n",
    "\n",
    "# 📌 데이터 개수 확인\n",
    "print(f\"학습 데이터 개수: {len(train_data)}\")\n",
    "print(f\"테스트 데이터 개수: {len(test_data)}\")"
   ]
  },
  {
   "cell_type": "markdown",
   "metadata": {},
   "source": [
    "# Train"
   ]
  },
  {
   "cell_type": "code",
   "execution_count": 5,
   "metadata": {},
   "outputs": [
    {
     "name": "stdout",
     "output_type": "stream",
     "text": [
      "[Noun Extractor] used default noun predictor; Sejong corpus predictor\n",
      "[Noun Extractor] used noun_predictor_sejong\n",
      "[Noun Extractor] All 2398 r features was loaded\n",
      "[Noun Extractor] scanning was done (L,R) has (2402, 1459) tokens\n",
      "[Noun Extractor] building L-R graph was done\n",
      "[Noun Extractor] 573 nouns are extracted\n"
     ]
    }
   ],
   "source": [
    "import json\n",
    "\n",
    "# 📌 nounextractor 학습\n",
    "noun_extractor = LRNounExtractor()\n",
    "nouns = noun_extractor.train_extract(\n",
    "    train_data,\n",
    "    min_noun_score=0.3,\n",
    "    min_noun_frequency=20\n",
    ")\n",
    "\n"
   ]
  },
  {
   "cell_type": "code",
   "execution_count": 7,
   "metadata": {},
   "outputs": [
    {
     "name": "stdout",
     "output_type": "stream",
     "text": [
      "[('때문', NounScore_v1(frequency=78, score=0.9997221142857142, known_r_ratio=0.9333333333333333)), ('도움', NounScore_v1(frequency=18, score=0.968345625, known_r_ratio=1.0)), ('이랑', NounScore_v1(frequency=274, score=0.7998286, known_r_ratio=0.7142857142857143)), ('국민', NounScore_v1(frequency=6, score=0.8774915135135136, known_r_ratio=0.8705882352941177)), ('내가', NounScore_v1(frequency=173, score=0.9913243333333334, known_r_ratio=0.6)), ('닉네', NounScore_v1(frequency=32, score=0.999185, known_r_ratio=0.03125)), ('자주', NounScore_v1(frequency=42, score=0.9887579999999999, known_r_ratio=0.75)), ('떡국', NounScore_v1(frequency=22, score=0.6561567777777778, known_r_ratio=0.9)), ('뭐라', NounScore_v1(frequency=14, score=0.48428875, known_r_ratio=1.0)), ('컨셉', NounScore_v1(frequency=32, score=0.9103542222222223, known_r_ratio=0.72))]\n"
     ]
    }
   ],
   "source": [
    "# Extract 10 nouns from the trained model\n",
    "top_10_nouns = list(nouns.items())[:10]\n",
    "print(top_10_nouns)"
   ]
  },
  {
   "cell_type": "code",
   "execution_count": 8,
   "metadata": {},
   "outputs": [
    {
     "name": "stdout",
     "output_type": "stream",
     "text": [
      "\n",
      "    꿀잼 (0.99)    너무 (0.57)    사랑 (0.97)    진짜 (0.70)    제가 (0.99)\n",
      "   좋아요 (0.54)    감사 (0.94)    오늘 (0.33)   만약에 (0.66)    정말 (0.81)\n",
      "    다음 (1.00)   목소리 (0.73)    축하 (0.77)    재미 (0.48)    처음 (1.00)\n",
      "    이랑 (0.80)   오랜만 (0.96)    좋아 (0.61)    생일 (0.76)   코아님 (0.51)\n",
      "    보고 (0.42)    완전 (1.00)    마크 (0.77)    안녕 (1.00)    내가 (0.99)\n",
      "   어떻게 (0.85)    게임 (0.61)    노래 (0.53)   마지막 (0.93)   이렇게 (1.00)\n",
      "    댓글 (0.63)   친구들 (0.94)    하트 (0.87)  샌드박스 (0.70)    제일 (1.00)\n",
      "    대박 (0.86)    나이 (0.81)   구독자 (0.76)    응원 (0.99)    생각 (0.75)\n",
      "   유튜브 (0.66)    스킨 (0.66)    하지 (1.00)    인정 (0.83)    죄송 (0.94)\n",
      "    잠뜰 (0.51)   화이팅 (0.69)    엄마 (0.83)    하고 (0.50)    같이 (0.80)\n",
      "   있는데 (1.00)    한번 (0.69)    엄청 (0.62)  로블록스 (0.65)    학교 (0.83)\n",
      "   오프닝 (0.58)   봤는데 (1.00)    시간 (0.80)   꾸르잼 (1.00)    사람 (0.44)\n",
      "    넘날 (0.75)   32분 (1.00)    친구 (0.69)    부탁 (0.96)   도도한 (0.94)\n",
      "    보니 (1.00)    이번 (0.90)    이름 (0.38)    머리 (0.97)   열심히 (1.00)\n",
      "    내일 (0.63)    생신 (0.82)    고정 (0.60)   갑자기 (1.00)    점프 (0.91)\n",
      "    때문 (1.00)    소리 (0.75)    조심 (1.00)    요즘 (0.54)    기대 (0.92)\n",
      "    나중 (1.00)    건강 (0.95)   다이아 (0.76)   그렇게 (0.98)    코아 (0.52)\n",
      "    계속 (0.42)    추억 (0.83)    하루 (0.82)    라고 (1.00)    방송 (0.35)\n",
      "    할때 (0.58)도도한친구들 (0.97)    분들 (0.86)    하나 (0.56)    대단 (0.99)\n",
      "    진심 (1.00)    모드 (0.75)    행복 (0.96)    먹고 (1.00)   국민이 (0.67)"
     ]
    }
   ],
   "source": [
    "top100 = sorted(nouns.items(), \n",
    "    key=lambda x:-x[1].frequency * x[1].score)[:100]\n",
    "\n",
    "for i, (word, score) in enumerate(top100):\n",
    "    if i % 5 == 0:\n",
    "        print()\n",
    "    print('%6s (%.2f)' % (word, score.score), end='')"
   ]
  }
 ],
 "metadata": {
  "kernelspec": {
   "display_name": ".venv",
   "language": "python",
   "name": "python3"
  },
  "language_info": {
   "codemirror_mode": {
    "name": "ipython",
    "version": 3
   },
   "file_extension": ".py",
   "mimetype": "text/x-python",
   "name": "python",
   "nbconvert_exporter": "python",
   "pygments_lexer": "ipython3",
   "version": "3.12.1"
  }
 },
 "nbformat": 4,
 "nbformat_minor": 2
}
