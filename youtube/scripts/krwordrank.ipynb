{
 "cells": [
  {
   "cell_type": "markdown",
   "metadata": {
    "vscode": {
     "languageId": "plaintext"
    }
   },
   "source": [
    "# KRWordRank"
   ]
  },
  {
   "cell_type": "code",
   "execution_count": 1,
   "metadata": {},
   "outputs": [
    {
     "name": "stdout",
     "output_type": "stream",
     "text": [
      "📌 총 840212개의 댓글을 수집했습니다!\n"
     ]
    }
   ],
   "source": [
    "import os\n",
    "import json\n",
    "import glob\n",
    "from soynlp.noun import LRNounExtractor\n",
    "\n",
    "# 📌 JSON 파일이 들어있는 폴더 경로 (사용자의 폴더 경로로 수정)\n",
    "folder_path = \"../../../게임\"\n",
    "\n",
    "# 📌 폴더 내 모든 JSON 파일 불러오기 (CODE0001.json, CODE0002.json, ...)\n",
    "json_files = glob.glob(os.path.join(folder_path, \"BO*.json\"))\n",
    "\n",
    "# 📌 모든 파일에서 댓글(content)만 추출\n",
    "comments = []\n",
    "for file in json_files:\n",
    "    with open(file, \"r\", encoding=\"utf-8\") as f:\n",
    "        data = json.load(f)  # JSON 파일 로드\n",
    "\n",
    "        # 'text' 항목에서 'content'만 추출\n",
    "        for entry in data[\"SJML\"][\"text\"]:\n",
    "            comments.append(entry[\"content\"])\n",
    "\n",
    "print(f\"📌 총 {len(comments)}개의 댓글을 수집했습니다!\")"
   ]
  },
  {
   "cell_type": "code",
   "execution_count": null,
   "metadata": {},
   "outputs": [],
   "source": [
    "from krwordrank.word import KRWordRank\n",
    "\n",
    "min_count = 5   # 단어의 최소 출현 빈도수 (그래프 생성 시)\n",
    "max_length = 10 # 단어의 최대 길이\n",
    "wordrank_extractor = KRWordRank(min_count=min_count, max_length=max_length)\n",
    "\n",
    "beta = 0.85    # PageRank의 decaying factor beta\n",
    "max_iter = 10\n",
    "texts = ['예시 문장 입니다', '여러 문장의 list of str 입니다', ... ]\n",
    "keywords, rank, graph = wordrank_extractor.extract(texts, beta, max_iter)"
   ]
  }
 ],
 "metadata": {
  "kernelspec": {
   "display_name": ".venv",
   "language": "python",
   "name": "python3"
  },
  "language_info": {
   "codemirror_mode": {
    "name": "ipython",
    "version": 3
   },
   "file_extension": ".py",
   "mimetype": "text/x-python",
   "name": "python",
   "nbconvert_exporter": "python",
   "pygments_lexer": "ipython3",
   "version": "3.12.1"
  }
 },
 "nbformat": 4,
 "nbformat_minor": 2
}
