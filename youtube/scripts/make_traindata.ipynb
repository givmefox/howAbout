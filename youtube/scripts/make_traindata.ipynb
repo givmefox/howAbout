{
 "cells": [
  {
   "cell_type": "markdown",
   "metadata": {
    "vscode": {
     "languageId": "plaintext"
    }
   },
   "source": [
    "# CallAPI"
   ]
  },
  {
   "cell_type": "code",
   "execution_count": 2,
   "metadata": {},
   "outputs": [
    {
     "name": "stdout",
     "output_type": "stream",
     "text": [
      "Fetching trending videos for category: News & Politics\n",
      "비디오 60 개 카테고리: News & Politics fetch 완료.\n",
      "데이터 저장 : data/raw_video_data.json'\n",
      "\n",
      "Category: News & Politics\n",
      " - 김건희와 검찰을 끝까지 의심해야 하는 이유? (곽종근의 분노)｜풀버전 (l_MGS00btCo), 조회수: 985204 회, 좋아요: 57480 개\n",
      " - 미친 듯 날뛰던 이재명. 전한길 등장에 꼭꼭 숨었다 [주말 몰아보기] (xJbj4MRPXOs), 조회수: 1034657 회, 좋아요: 90036 개\n",
      " - 이상민 입 열자 尹 '휘청' \"10시 KBS\" 발언의 비밀 [뉴스.zip/MBC뉴스] (EMKYRHDCDC8), 조회수: 1188464 회, 좋아요: 22741 개\n",
      " - 尹 사건 맡은 중앙지법! 대형사건 터졌다![배승희 뉴스배송] (xYld5mZwuQU), 조회수: 846914 회, 좋아요: 141696 개\n",
      " - “극우가 점입가경”…민주당, 전한길 공개 비판 / 채널A / 김진의 돌직구쇼 (6sk_f6hx0OY), 조회수: 440676 회, 좋아요: 20699 개\n"
     ]
    }
   ],
   "source": [
    "import time\n",
    "from googleapiclient.discovery import build\n",
    "import isodate\n",
    "import json\n",
    "import os\n",
    "\n",
    "# 환경 변수에서 API 키 가져오기\n",
    "API_KEY = os.getenv(\"YOUTUBE_API_KEY\")\n",
    "if not API_KEY:\n",
    "    raise ValueError(\"API 키가 설정되지 않았습니다. 환경 변수 'YOUTUBE_API_KEY'를 설정하세요.\")\n",
    "\n",
    "# YouTube API 설정\n",
    "youtube = build(\"youtube\", \"v3\", developerKey=API_KEY)\n",
    "\n",
    "# 카테고리 ID 설정\n",
    "CATEGORIES = {\n",
    "    \"News & Politics\": \"25\"\n",
    "}\n",
    "\n",
    "# 동영상 데이터 가져오기\n",
    "def fetch_trending_videos(category_id, region_code=\"KR\", max_results=200):\n",
    "    videos = []\n",
    "    next_page_token = None\n",
    "\n",
    "    while len(videos) < max_results:\n",
    "        try:\n",
    "            request = youtube.videos().list(\n",
    "                part=\"snippet,statistics,contentDetails\",\n",
    "                chart=\"mostPopular\",\n",
    "                regionCode=region_code,\n",
    "                videoCategoryId=category_id,\n",
    "                maxResults=min(50, max_results - len(videos)),\n",
    "                pageToken=next_page_token\n",
    "            )\n",
    "            response = request.execute()\n",
    "\n",
    "            for item in response.get(\"items\", []):\n",
    "                duration = isodate.parse_duration(item[\"contentDetails\"][\"duration\"])\n",
    "                duration_in_seconds = duration.total_seconds()  #초로 바꾸기기\n",
    "\n",
    "                if duration_in_seconds > 80:  # 80초 이상의 동영상만 가져오기\n",
    "                    videos.append({\n",
    "                        \"video_id\": item[\"id\"],\n",
    "                        \"title\": item[\"snippet\"][\"title\"],\n",
    "                        \"description\": item[\"snippet\"][\"description\"],\n",
    "                        \"tags\": item[\"snippet\"].get(\"tags\", []),\n",
    "                        \"duration\": str(duration),\n",
    "                        \"view_count\": int(item[\"statistics\"].get(\"viewCount\", 0)),\n",
    "                        \"like_count\": int(item[\"statistics\"].get(\"likeCount\", 0)),\n",
    "                        \"comment_count\": int(item[\"statistics\"].get(\"commentCount\", 0)),\n",
    "                        \"category_id\": category_id,\n",
    "                    })\n",
    "\n",
    "            next_page_token = response.get(\"nextPageToken\")\n",
    "            if not next_page_token:\n",
    "                break\n",
    "\n",
    "        except Exception as e:\n",
    "            print(f\"Error fetching videos: {e}\")\n",
    "            time.sleep(5)  # 잠시 대기 후 다시 시도\n",
    "\n",
    "    return videos\n",
    "\n",
    "# JSON 파일로 저장하는 함수\n",
    "def save_to_json(data, filename):\n",
    "    # data 폴더가 존재하지 않으면 생성\n",
    "    if not os.path.exists('data'):\n",
    "        os.makedirs('data')\n",
    "    \n",
    "    # 파일 경로를 data 폴더 아래로 설정\n",
    "    filepath = os.path.join('data', filename)\n",
    "    \n",
    "    with open(filepath, 'w', encoding='utf-8') as f:\n",
    "        json.dump(data, f, ensure_ascii=False, indent=4)\n",
    "\n",
    "# 실행\n",
    "all_videos = {}\n",
    "\n",
    "for category_name, category_id in CATEGORIES.items():\n",
    "    print(f\"Fetching trending videos for category: {category_name}\")\n",
    "    videos = fetch_trending_videos(category_id, region_code=\"KR\", max_results=200)\n",
    "    all_videos[category_name] = videos\n",
    "    print(f\"비디오 {len(videos)} 개 카테고리: {category_name} fetch 완료.\")\n",
    "\n",
    "# 결과를 하나의 JSON 파일로 저장\n",
    "output_file = \"raw_video_data.json\"\n",
    "save_to_json(all_videos, output_file)\n",
    "print(f\"데이터 저장 : data/{output_file}'\")\n",
    "\n",
    "# 결과 출력 예시\n",
    "for category, videos in all_videos.items():\n",
    "    print(f\"\\nCategory: {category}\")\n",
    "    for video in videos[:5]:\n",
    "        print(f\" - {video['title']} ({video['video_id']}), 조회수: {video['view_count']} 회, 좋아요: {video['like_count']} 개\")"
   ]
  },
  {
   "cell_type": "code",
   "execution_count": 3,
   "metadata": {},
   "outputs": [
    {
     "name": "stdout",
     "output_type": "stream",
     "text": [
      "[\"김건희와 검찰을 끝까지 의심해야 하는 이유? (곽종근의 분노)｜풀버전 #최욱 #매불쇼 #팟빵\\n\\n0:00 - 대기 시간\\n17:19 - 방송 시작\\n20:44 - 사이다 헤드라인 : 곽수산 X 장윤선 X 신인규 X 박지원 X 임미애 X 서영교\\n1:49:59 - 세계로 뻗을레오 : 김준형 X 최광철\\n2:30:42 - 이건 왜 이럴 과학 : 엑소 X 박태웅\\n- 광고요정 : 김유정\\n---------------------------------------------------------\\n● 문제성 손발톱엔 케라셀!\\n배송메시지에 '매불쇼'입력하면 케라셀풋크림 증정(2/28마감)\\n➜ https://m.site.naver.com/1wO6u\\n \\n● 식후혈당 걱정엔 닥터엠당엔\\n오늘 밤 12시까지 배송 메모에 '매불쇼 이벤트' 남겨주시면 2박스 구매시 1박스 더! (2+1)\\n➜ https://smartstore.naver.com/mydrm/products/8236044676\\n\\n● 100% 순수 식물성 멜라토닌  벨나잇 으로 편안한 숙면~!\\n2+1 진행 중,  매불쇼 기재하면 휴대용 7일분 추가 증정~!\\n“문의전화 1533-1068”\\n➜ https://m.site.naver.com/1B6jv\\n---------------------------------------------------------\\n광고 문의 : ad@podbbang.com\\n출연, 사연 등 기타 문의 : mbshow@podbbang.com\\n또는 인스타그램 @maebulshow 메시지 주세요 :)\", \"미친 듯 날뛰던 이재명. 전한길 등장에 꼭꼭 숨었다 [주말 몰아보기] 영상 ‘좋아요’와 ‘구독’은 큰 힘이 됩니다\\n\\n*‘굿모닝 대한민국’ 주말 몰아보기 영상 목록\\n\\n00:00:00 (월, 백지원)조기대선 노리는 모리배들, 전한길 선생 좀 보고 배워라\\n00:26:06 (월, 강대규) 역사강사 전한길의 호소가 한국 국민을 전율케 한다\\n00:37:27 (화, 김기흥) 내란 프레임, 이제 민주당에 완전히 덮어씌워졌다\\n00:49:44 (화, 김기흥) 이재명의 지역화폐, 대한민국을 거덜낸다\\n\\n펜앤드마이크는 사즉생의 마음으로 대한민국 체제 수호에 매진하겠습니다\\n후원계좌 : 기업은행 02-2138-5881 (주식회사 펜앤드마이크)\\n\\nARS 후원신청 : 1877-0216\\n\\n해피나눔 정기후원신청 :  https://www.ihappynanum.com/Nanum/B/0BT4KW55HB\\n\\n일반후원계좌 : 기업은행 02-2138-5881 (주식회사 펜앤드마이크)\\n\\n정기후원계좌 :  기업은행 024-088734-04-046 (주식회사 펜앤드마이크)\\n\\n페이팔 및  해외송금 :   http://www.pennmike.com/com/spon.html\\n\\n여러분의 많은 후원 부탁드립니다. 감사합니다.\\n\\n\\n★펜앤드마이크 구독자 그룹 단톡방 개설★\\n\\nhttps://open.kakao.com/o/g2Iurtkf\\n\\n비밀번호 : 1801\\n\\n자유롭게 구독자분들과 펜앤드마이크와 소통할 수 있어요.\\n\\n🏅 채널에 가입하여 혜택을 누려보세요! 👉 https://bit.ly/3J6jwWD\\n\\n월~금 오전 9시 - 허현준의 굿모닝 대한민국\\n월~금 오후 6시 - 최대현의 이것이 뉴스다\\n월~수 오후 3시 - 중립MZ\\n\\n👏 영상이 마음에 드신다면, 영상 아래 메뉴의 'Thanks' 버튼으로 후원해주세요!\\n\\n#전한길#이재명#백지원\", '이상민 입 열자 尹 \\'휘청\\' \"10시 KBS\" 발언의 비밀 [뉴스.zip/MBC뉴스] 00:00 [단독] 이상민 \"尹, \\'22시 KBS 생방송 있다\\'며 계엄 강행하려 해\" (2025.01.30/뉴스데스크/MBC)\\n02:19 [단독] \"尹, 와이프 계엄 몰라 화낼 것\"‥\\'회의록\\' 미작성 이유도 드러나 (2025.01.30/뉴스데스크/MBC)\\n04:19 [단독] 이상민도 \"상식적으로 계엄 할 상황 아냐\" (2025.01.29/뉴스데스크/MBC)\\n\\n#이상민 #KBS #윤석열 #비상계엄\\n#MBC #뉴스 #뉴스데스크 #MBC뉴스 #뉴스투데이 #뉴스ZIP #뉴스꾹 #오늘이뉴스 #자막뉴스\\n\\nⓒ MBC & iMBC 무단 전재, 재배포 및 이용(AI학습 포함)금지 MBC MBC뉴스 뉴스데스크 newsdesk 뉴스투데이 newstoday 8시뉴스 아침뉴스 뉴스 정오뉴스 news 실시간 실시간 뉴스 엠비씨 뉴스 엠비씨 뉴스 실시간 뉴스속보 genre:정치 format:리포트 type:디지털 source:영상 series:뉴스.zip topic:이상민 윤석열 KBS person:이상민 person:윤석열 location:서울mbc language:한국어 custom:2차가공 custom:일반', '尹 사건 맡은 중앙지법! 대형사건 터졌다![배승희 뉴스배송] [제보 및 비지니스 문의]\\ntatajebo@gmail.com\\n\\n[변호사세요? 유튜버세요? - 도서 구입] \\n교보문고 :  http://me2.do/5eOL4qR5\\n예스 24 :   http://me2.do/F2r4RJl1\\n\\n[채널 가입]\\nhttps://www.youtube.com/channel/UC8SZ88GQa9XWwZxLNibO3ug/join', '“극우가 점입가경”…민주당, 전한길 공개 비판 / 채널A / 김진의 돌직구쇼 “극우가 점입가경”…민주당, 전한길 공개 비판\\n\\n김민석 \"극우 점입가경… 폭력 경쟁으로 치달을 것\"\\n전한길 \"野, 극우 프레임 씌우려고 해\"\\n전한길 \"나는 노사모 출신… 그럼 노사모도 극우?\"\\n\\n○ 영상 보기\\nhttps://www.ichannela.com/program/detail/program_video_renew.do?publishId=000000457652\\n\\n▶채널A뉴스 구독\\nhttps://www.youtube.com/tvchanews?sub_confirmation=1\\n\\n[채널A 뉴스·시사 프로그램｜유튜브 라이브 방송시간]\\n\\n〈평일〉\\n08시 00분 라디오쇼 정치시그널·경제시그널 (유튜브 라이브)\\n08시 50분 김진의 돌직구 쇼\\n10시 20분 김진의 더라방 (유튜브 라이브)\\n12시 00분 뉴스A 라이브\\n15시 50분 이야기 더\\n17시 10분 뉴스TOP10\\n19시 00분 뉴스A\\n\\n〈주말〉\\n12시 00분 토요랭킹쇼·뉴스A 라이브\\n17시 40분 뉴스TOP10\\n19시 00분 뉴스A\\n\\n#민주당 #전한길 #채널A뉴스\\n\\n▷ 홈페이지 http://www.ichannela.com/news/main/news_main.do\\n▷ 페이스북 https://www.facebook.com/channelanews\\n▷ 카카오스토리 https://story.kakao.com/ch/channelanews 극우 민주당 전한길 채널A cosjfdpdl cosjfㅁ 돌직구쇼 김진 rlawls']\n"
     ]
    }
   ],
   "source": [
    "def load_json(filename):\n",
    "    with open(filename, 'r', encoding='utf-8') as f:\n",
    "        return json.load(f)\n",
    "\n",
    "# JSON 파일 경로\n",
    "input_file_path = \"data/raw_video_data.json\"\n",
    "\n",
    "# JSON 데이터 로드\n",
    "data = load_json(input_file_path)\n",
    "\n",
    "def merge_text_fields(video):\n",
    "    title = video.get(\"title\", \"\")\n",
    "    description = video.get(\"description\", \"\")\n",
    "    tags = \" \".join(video.get(\"tags\", []))  # 태그 리스트를 공백으로 연결\n",
    "\n",
    "    # 병합\n",
    "    merged_text = \" \".join([title, description, tags])\n",
    "    return merged_text.strip()  # 공백 제거\n",
    "\n",
    "def extract_texts(data):\n",
    "    texts = []\n",
    "    for category, videos in data.items():\n",
    "        for video in videos:\n",
    "            merged_text = merge_text_fields(video)\n",
    "            texts.append(merged_text)\n",
    "    return texts\n",
    "\n",
    "# 텍스트 데이터 추출\n",
    "texts = extract_texts(data)\n",
    "\n",
    "print(texts[:5])"
   ]
  },
  {
   "cell_type": "code",
   "execution_count": 4,
   "metadata": {},
   "outputs": [
    {
     "name": "stdout",
     "output_type": "stream",
     "text": [
      "병합된 텍스트가 'data/merged_texts.txt'에 저장되었습니다.\n"
     ]
    }
   ],
   "source": [
    "def save_texts_to_file(texts, filename):\n",
    "    with open(filename, 'w', encoding='utf-8') as f:\n",
    "        for text in texts:\n",
    "            f.write(text + '\\n')\n",
    "\n",
    "# 텍스트 파일로 저장\n",
    "output_file_path = \"data/merged_texts.txt\"\n",
    "save_texts_to_file(texts, output_file_path)\n",
    "print(f\"병합된 텍스트가 '{output_file_path}'에 저장되었습니다.\")"
   ]
  },
  {
   "cell_type": "code",
   "execution_count": 5,
   "metadata": {},
   "outputs": [
    {
     "name": "stdout",
     "output_type": "stream",
     "text": [
      "['김건희와 검찰을 끝까지 의심해야 하는 이유? (곽종근의 분노)｜풀버전 #최욱 #매불쇼 #팟빵\\n', '\\n', '0:00 - 대기 시간\\n', '17:19 - 방송 시작\\n', '20:44 - 사이다 헤드라인 : 곽수산 X 장윤선 X 신인규 X 박지원 X 임미애 X 서영교\\n']\n"
     ]
    }
   ],
   "source": [
    "def load_text_file(filepath):\n",
    "    with open(filepath, 'r', encoding='utf-8') as f:\n",
    "        return f.readlines()\n",
    "    \n",
    "# 텍스트 파일 경로\n",
    "input_file_path = \"data/merged_texts.txt\"\n",
    "\n",
    "texts = load_text_file(input_file_path)\n",
    "\n",
    "print(texts[:5])\n",
    "\n"
   ]
  },
  {
   "cell_type": "code",
   "execution_count": 10,
   "metadata": {},
   "outputs": [
    {
     "name": "stdout",
     "output_type": "stream",
     "text": [
      "['김건희와 검찰을 끝까지 의심해야 하는 이유 곽종근의 분노풀버전 최욱 매불쇼 팟빵', '', '  대기 시간', '  방송 시작', '  사이다 헤드라인  곽수산  장윤선  신인규  박지원  임미애  서영교']\n"
     ]
    }
   ],
   "source": [
    "import re\n",
    "import emoji\n",
    "\n",
    "\n",
    "# 텍스트 전처리 함수\n",
    "def preprocess_text(text):\n",
    "    if not isinstance(text, str):\n",
    "        text = str(text)  # 문자열로 변환\n",
    "\n",
    "    # 1. HTML 태그 제거\n",
    "    text = re.sub(r\"<[^>]+>\", \"\", text)\n",
    "\n",
    "    # 2. URL 제거\n",
    "    text = re.sub(r\"http\\S+|www\\S+|https\\S+\", \"\", text, flags=re.MULTILINE)\n",
    "\n",
    "    # 3. 이메일 제거\n",
    "    text = re.sub(r\"\\S+@\\S+\\.\\S+\", \"\", text)\n",
    "\n",
    "    # 4. 숫자 제거 (명확히 숫자만 제거)\n",
    "    text = re.sub(r\"\\d+\", \"\", text)\n",
    "\n",
    "    # 5. 반복된 ㅋ, ㅎ, ㅠ, ㅜ 등 제거\n",
    "    text = re.sub(r\"[ㅋㅎㅠㅜ]+\", \"\", text)\n",
    "\n",
    "    # 6. 반복된 점(...) 제거\n",
    "    text = re.sub(r\"\\.\\.+\", \".\", text)\n",
    "    \n",
    "    # 7. 불용어 제거\n",
    "    stopwords = set([\"시\", \"분,\"])\n",
    "    text = \" \".join([word for word in text.split() if word not in stopwords])\n",
    "\n",
    "    # 8. 이모지 제거\n",
    "    text = emoji.replace_emoji(text, replace=\"\")\n",
    "    \n",
    "    # 연속된 공백을 하나의 공백으로 변환\n",
    "    text = re.sub(r\"\\s+\", \" \", text)\n",
    "\n",
    "    # 9. 특수문자 및 영어 알파벳 제거\n",
    "    text = re.sub(r\"[^\\w\\s가-힣]\", \"\", text)  # 영어 알파벳 포함 특수문자 제거\n",
    "    text = re.sub(r\"[a-zA-Z]\", \"\", text)     # 영어 알파벳 제거\n",
    "\n",
    "\n",
    "    return text\n",
    "\n",
    "# 텍스트 데이터 전처리\n",
    "preprocessed_texts = [preprocess_text(line) for line in texts]\n",
    "\n",
    "print(preprocessed_texts[:5])\n",
    "\n",
    "save_texts_to_file(preprocessed_texts, \"data/preprocessed_texts.txt\")\n",
    "\n",
    "\n"
   ]
  },
  {
   "cell_type": "code",
   "execution_count": null,
   "metadata": {},
   "outputs": [],
   "source": []
  }
 ],
 "metadata": {
  "kernelspec": {
   "display_name": ".venv",
   "language": "python",
   "name": "python3"
  },
  "language_info": {
   "codemirror_mode": {
    "name": "ipython",
    "version": 3
   },
   "file_extension": ".py",
   "mimetype": "text/x-python",
   "name": "python",
   "nbconvert_exporter": "python",
   "pygments_lexer": "ipython3",
   "version": "3.12.1"
  }
 },
 "nbformat": 4,
 "nbformat_minor": 2
}
